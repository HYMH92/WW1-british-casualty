{
 "cells": [
  {
   "cell_type": "markdown",
   "metadata": {},
   "source": []
  },
  {
   "cell_type": "code",
   "execution_count": 2,
   "metadata": {},
   "outputs": [],
   "source": [
    "from bs4 import BeautifulSoup"
   ]
  },
  {
   "cell_type": "markdown",
   "metadata": {},
   "source": [
    "### function that read the XML file and extract only the text from it."
   ]
  },
  {
   "cell_type": "code",
   "execution_count": 8,
   "metadata": {},
   "outputs": [
    {
     "name": "stdout",
     "output_type": "stream",
     "text": [
      "['WAR', 'OFFICE', 'WEEKLY', 'CASUALTY', 'LIST,', 'AUGUST', '7th,', '1917.', '18', 'Daily', 'List', 'of', 'August', '4-tBi', \".Gomid.'.\", 'PART', 'V.', 'W.O.’s,', \"N.C.O.'s,\", 'AND', 'MEN', '(Contd.).', 'WOUNDED', '(Contd.).', 'SHERWOOD', 'FORESTERS', '(Contd.).', '-D', 'V', 'T', '(Derby);', 'Pritchett', '201253', 'R.', 'C.', '(Bodnorda),', 'Relf', '-o/X', 'C-', '(Egerton)', ';', 'Reynolds', ',677,7', 'H.', 'S.', '(Shoreditch', 'E.);', 'Robinson', ',0,418', 'G.', 'W.', '(Frizinghall);', 'Roome', '201185', 'L.-Cpl.', 'A.', 'Tiprbv).', 'Rose', '200071', 'S.', 'E.', '(Long', 'Eaton);', 'Samuel', '202180', 'A.', '(Leigh-', 'tDerby),', 'K', 'cc??.boroUgh', '-&gt;03446', 'W.', '(Retford);', 'Shaw', '203448', 'A.', '^orkso', 'Z', 'p)!', 'd)', '\\'Shaw\"t-CpCF\\'', '(Derby);', 'Sharratt', '-34U', 'W', 'A.', '.', 'Sh-nton', '-’03449', 'T.', '(Ripley);', 'Simms', '240466', '1.', '(Lhester', 'nddU', 'Simpkin', '266898', 'L-Sjt.', 'W.', '(Nottingham);', 'Singleton', '20345,', 'T', 'Nottingham);', 'Slack', '202583', 'S.', 'H.', '(Bakewell);', 'Smith', '?67°o7', 'A;', '(Nottingham);', 'Summerscales', '203187', 'Act.', 'Sjt.', 'N.', '(Horbury),', 'St', 'tt;', '«', '_', 'p', 'TT', '(Swadlincote);', 'Tristram', '200049', 'Sjt.', 'F.', '(Derby),', 'Wagg', 'C.', '(Derby);', 'Watte', '235018', 'C.', 'F.', '(Grimsby);', 'Watt', '267674', 'W-', '\\'(\"Newark)-\\'', 'Webster', '71664', 'E.', '(Nottingham);', 'WhHe', '201967', 'C.', '(likes-,', 'ton);', 'White', '20148,', 'H.', '(Derby);', 'White', '203469', 'T.', '(Newark)', ',', '’tt', 'igley', '-&gt;01977', 'W.', '(Belper);', 'Wragg', '201688', 'R.', '(Swadlincote).', 'T', 'OTAL', 'NORTH', 'LANCASHIRE', 'REGIMENT-Barrett', \"8'95\", 'F-', '(Charlton', 'S.E.):', 'Bickerstaff', '8407', 'J.', '(Liverpool);', 'Cubbin', '269', 'H', 'E', '(Liverpool);', 'Grafton', ',0567', 'Sjt.', 'P.', '(Preston);', 'Howard', '9787', 'J.', '(Crossens);', 'Turnbull', '2654,', 'B.', '(Birtley).', 'ROYAL', 'WEST', 'KENT', 'REGIMENT.—Waterman', '2135', 'A.', '(Whit-', 'stable);', 'Williams', '24792', 'R.', '(Cowbridge).', '-vr', 'Axirw-pctTEP', 'REGIMENT.—Boorer', '42021', 'H.', '(Lingfield);', '\\'Hill)\"\\'', 'Keelev', '42026', 'C.', '(Colchester);', 'Keig', '44138', 'W.', '(Miles', 'Pia,', 't-Av', 'Looker', 'i&gt;399', 'B.', '(Newton,', 'Manchester);', 'Medley', '20873', 'G.', '(Reddish)', '0', ';', '0', 'Peel', '40725', 'L.-Cpl.', 'R.', '(Birkenhead);', 'Pike', '20270X', 'A.', 'E.', '.', '(Manchester).', 'NORTH', 'STAFFORDSHIRE', 'REGIMENT.-Kynaston', '28761', 'H', 'P', '(Wem);', 'Meaney', '18196', 'J.', '(Tunstall);', 'Murray', '34901', 'W.', '(Glas-', 'gow);', 'Plant', '14856', 'D.', '(Fenton);', 'Reed', '14179', 'T.', '(Hanley),', 'Smith', '12851’', 'S.', 'W.', '(Tunstall).', 'DURHAM', 'LIGHT', 'INFANTRY.—Armstrong', '„4i9', 'J-', 'gunder-', \"land''-\", 'Baker', '43870', 'S.', '(Bilston);', 'Ford', '43', 'o8°', 'T.', 'W.', '(Uerby),', 'F', 'J', '‘‘J', '(H?iT);', 'y', 'Wh', 'S', 'yte', 'OU', '537^', 'Cpl.', 'P.', '(Alyth);', 'Wright', '43010', 'S.', '(Derbv).', 'HIGHLAND', 'LIGHT', 'INFANTRY.—Key', '39,92', 'W.', '(Kirkcakiy);', 'McAuley', '12373', 'J.', '(Motherwell);', 'Tennent', '8682', 'L.-Cpl.', 'A.', '(High', 'Blantyre).', 'ROYAL', 'IRISH', 'FUSILIERS', '—Boyle', '25936', 'D.', '^^fU^Kfetly', '82,8', 'Co', 'Sit-Mai.', 'T.', 'S.', '(Armagh);', 'Donnelly', '3602', 'P.', '(Belfast),', 'tveuy', '12754', 'T.', '(Biantvre);', 'McGuinness', '17875', 'P.', '(Glasgow);', '.', 'Mori', '!:', 'g°m^Ty', '2482', 'S', '(Belfast);', 'Mulligan', '11469', 'W.', '(Armagh);', 'O', 'Bnen', '26120', 'W.', '(Ardee);', 'Smith', '248S9', 'T.', '(Renfrew).', 'RIFLE', 'BRIGADE.', '-', 'Barton', '574859', 'S.', \"^‘Tr^’fFu'lhlm’\", 'Gainsburv', '574879', 'F.', '(Hackney,', 'N.);', 'Hawkins', '26826', 'G.', 'G.', '(I', 'ulham,', 'c', 'w', ',', '■', 'Pearson', '4471', 'H.', '(Clapham,', 'S.W.);', 'Stevens', '29732', 'C.', 'H.', \"(Shepherd's\", 'Bush,', '4', 'W.);', 'Tilbury', '297,6', 'L.-Cpl.', 'W.', 'H.', '(Peckham', 'Rye,', 'MACHINE', 'GUN', 'CORPS.', '-', 'Boa', '47395', 'L', '’L', 'P,', 'T', 'JTfaYermfn-', 'Howard', '41717', 'Sjt.', 'C.', '(Hanstead);', 'Jarvis', '52044', 'H.', 'L.', '(Kiddermm', 'ster);', 'Lawrence', '50662', 'E.', '(Hartpury).', 'LABOUR', 'CORPS.—Atkinson', '80554', 'S.', 'J.', '(Stoke', 'Newington,', 'N.),', 'Barnes', '80585', 'J-', '(Streatham,', 'S.W', ');', 'Bosomworth', '^o', 'G', '(Wood-', 'house);', 'Bowyer', 'S0550', 'W.', '(Wandsworth', 'S.W.)', 'Boy!e', '128182', 'W.', 'Keef0^65068', '(Clanham', 'S.W.);', 'Norman', '104108', 'T.', 'G.', 'W.', '(Paddington,', \"■'&gt;\", 'Price', '113121', 'J.', '(Manchester);', 'Sheen', '59844', 'W.', 'J.', '(Hammersmith,', 'W.),', 'Smith', ',06554', 'F.', 'H.', '(Bedworth);', 'Stewart', ',02379', 'Va^neU', '36455', 'E', 'W', 'Studman', '80569', 'A.', '(Rosebery', 'Avenue,', 'E.C.),', 'Warner', '36429', '(Brecon).', 'ROYAL', 'ARMY', 'MEDICAL', 'CORPS.-Ayre', '38834,', 'C', 'D.', '(Gates-', 'head);', 'Headford', '74603', 'J-', '(Lanchester);', 'Lynch', '2504', 'W.', '(Tottenham,', 'N', ')', '■', 'Shrubb', '473007', 'Sjt.', 'A.', 'G.', '(Ipswich).', 'ROYAL', 'ARMY', 'MEDICAL', 'CORPS,', 'ATTACHED', 'ROYAL', 'FIELD', 'ARTILLERY.—Watters', '48205', 'W.', 'J.', '(Mountain', 'Ash).', 'WOUNDED', 'SHOCK', 'SHELL.', 'CAVALRY', 'SPECIAL', 'RESERVE.—Pinkman', '2200', 'F.', '(Garrick-', 'oiv-Shannon).', 'YEOMANRY.—Harrison', '255796', 'S.', 'W.', '(Leicester).', 'ROYAL', 'FIELD', 'ARTILLERY.—Morris', '57665', 'Gnr.', 'E.', 'S.', '(Dor-', 'chester).', 'THE', 'BUFFS', '(EAST', 'KENT', 'REGIMENT).—Pomfret', '12556', 'R-', '(Manchester);', 'Riches', '11910', 'E.', 'E.', '(Tottenham,', 'N.).', 'WOUNDED', 'AND', 'MISSING.', 'THE', 'BUFFS', '(EAST', 'KENT', 'REGIMENT).', '—', 'Emblin', '20448', 'F-', '(Sydenham,', 'S.E.).', 'Previously', 'reported', 'wounded,', 'now', 'reported', 'WOUNDED', 'AND', 'MISSING.', \"KING'S\", 'OWN', '(YORKSHIRE', 'LIGHT', 'INFANTRY).', 'Haigh', '34237*', 'S-', '(Morley);', 'Martin', '35344', 'H.', '(Ossett);', 'Parkinson', '344,2', 'J-', '(Halifax).', ',', '.', 'Previously', 'reported', 'missing,', 'now', 'reported', 'WOUNDED', 'AND', 'MISSING,', 'BELIEVED', 'KILLED.', 'SHERWOOD', 'FORESTERS.—Eaton', '201878', 'H.', '(Repton).', 'MISSING.', 'THF', 'BUFFS', '(EAST', 'KENT', 'REGIMENT).', 'Barnes', '13870', 'W.', '(Loddon);', 'Beech', '10207', 'H.', '(Hatfield)', ';', 'Cadman', '6380', 'Act', 'Sjt', 'A-', '(Dover)', '•', 'Cramp', '9467', 'J.', '(Ashford);', 'Crook', '12904', 'J.', '(Brighton),', 'Dobson’13300', 'C.', '(Northgate);', 'Hewlett', '13925', 'W.', '(Lowestoft);', 'Martin', '78812', 'L-^M', 'T', '(St.', 'John’s', 'Wood,', 'N.W.);', 'Neeves', '1,954', 'J-', 'Sfcphs.', '(Boston)', 'hlkLier', '^(Dea^rhmith', '1^763', \"j']^!\", '(Twkhnham)', 'f', \"Venn'fo^S\", '1', '*^^^!^^^)', '^Wright’', '2033°43', 'e', 'A^fWest', 'Brompton,', 'S.W.)-', 'SUFFOLK', 'REGIMENT.—Rice', '40587', 'A', '-', '(Colchester).', 'ROYAL', 'SUSSEX', 'REGIMENT.—Townsend', '534,', 'F.', '(Brighton).', 'Previously', 'reported', 'wounded,', 'now', 'reported', 'not', 'wounded.', ',', 'ROYAL', 'FIELD', 'ARTILLERY', '7', '.—Proctor', '35273', 'Bdr.', 'S.', '(Kmg-s', 'Lynn).', 'KING’S', '(LIYERPOOL', 'REGIMENT).', 'Philpotts', '33,106', '1.', '(Manchester).', 'PART', 'VI.', 'WARRANT', 'OFFICERS,', 'NON-COMMISSIONED', 'OFFICERS,', 'AND', 'MEN.', 'KILLED.', 'YEOMANRY', '7', '.—Connor', '7534,', 'J-', '(Chesterfield).', 'HAMPSHIRE', 'REGIMENT.—Coyne', '330229', 'P.', 'H.', '(Ryde).', 'ROYAL', 'BERKSHIRE', 'REGIMENT.—Price', 'i4473', 'W.', '(Neath);', 'Sayers', '23955', 'S.', 'C.', '(Reading).', 'ARMY', 'CYCLIST', 'CORPS.—Griffiths', '3308', 'A.', '(Bristol).', 'Previously', 'reported', 'missing,', 'believed', 'killed,', 'now', 'reported', 'KILLED.', 'MACHINE', 'GUN', 'CORPS.—Kirk', '61374', 'J.', '(Aston).', 'Previously', 'reported', 'missing,', 'now', 'reported', 'KILLED.', 'HAMPSHIRE', 'REGIMENT.—Squires', '33', 'I', '545', 'A', '-', 'T', '-', '(Portsmouth).', 'DIED', 'OF', 'WOUNDS.', 'ROYAL', 'ENGINEERS,—Jones', '35648', 'Spr.', 'A.', 'E.', '(Wrexham).', 'Previously', 'reported', 'wounded,', 'now', 'reported', 'DIED', 'OF', 'WOUNDS.', 'ROYAL', 'SCOTS', 'FUSILIERS.—Ritchie', '241288', 'J.', '(Ayr).', 'SEAFORTH', 'HIGHLANDERS.—Garrick', '12150', 'A.', '(Newcastle-on-', 'Tyne).', 'PART', 'VI.', 'W.O.’s,', 'N.C.O.’s,', 'AND', 'MEN', '(Contd.).', 'DIED.', 'YEOMANRY.—Farr', '106008', 'P.', '(Leicester).', 'ROYAL', 'FIELD', 'ARTILLERY.—Batten', '150226', 'Dvr.', 'T.', 'M.', '(Charl-', 'ton', 'Horethorne);', 'Priestwood', '’', '379C2', 'Sjt.', 'H.', '(St.', 'Heliers,', 'Jersey);', 'Ward', '185762', 'Gnr.', 'H.', '(Sharrow,', 'Sheffield).', 'ROYAL', 'ENGINEERS.—Girling', '200342', 'Spr.', 'J.', '(Belfast);', 'Hollas', '131102', 'Pnr.', 'E.', '(Huddersfield);', 'Lockett', '197052', 'Spr.', 'H.', '(Wolverhamp-', 'ton);', 'Poree', '202264', 'P.', '(Plaistow,', 'E.);', 'Rogers', '195707', 'Spr.', 'J.', '(Hock-', 'ley)', ';', 'Rowe', '150705', 'Spr.', 'F.', 'W.', '(Crawlas', 'Ludgoan);', 'Smith', '200976', 'Spr.', 'W.', '(Manor', 'Park,', 'E.)', ';', 'White', '204853', 'Act.', 'Cpl.', 'J.', '(Belfast).', 'THE', 'BUFFS', '(EAST', 'KENT', 'REGIMENT).—Turner', '241532', 'D.', '(Hounslow).', 'NORTHUMBERLAND', 'FUSILIERS.—Jackson', '292952', 'H.', \"'Shef-\", 'field)', ';', 'Whittaker', '52557', 'H.', '(Leeds).', 'NORFOLK', 'REGIMENT.—Walden', '240754', 'S.', '(King’s', 'Lynn).', 'SOMERSET', 'LIGHT', 'INFANTRY.—Hawkins', '30098', 'H.', 'R.', 'J.', '(Taunton).', 'BEDFORDSHIRE', 'REGIMENT.—Jobson', '24833', 'F.', '(Haverhill).', 'LEICESTERSHIRE', 'REGIMENT.—Goode', '23705', 'F.', '(Market', 'Har-', 'borough);', 'Tidswell', '19463', 'R.', '(Mansfield).', 'CHESHIRE', 'REGIMENT.—Williams', '11540', 'J.', '(Salford).', 'CAMERONIANS', '(SCOTTISH', 'RIFLES).', '—', 'Hamilton', '15294', 'G.', '(Glasgow).', 'GLOUCESTERSHIRE', 'REGIMENT.—Moore', '26463', 'A.', 'G.', '(Chel-', 'tenham).', 'HAMPSHIRE', 'REGIMENT.', '—', 'Barlow', '201417', 'W.', '(Winchester);', 'Smith', '203512', 'A.', '(Newbury);', 'Whatley', '202016', 'H.', '(Warminster);', 'Wood-', 'ward', '200481', 'Or.-Sjt.', 'A.', '(Alresford).', 'WELSH', 'REGIMENT.—Waterman', '37583', 'G.', '(East', 'Dulwich,', 'S.E.).', 'ROYAL', 'WEST', 'KENT', 'REGIMENT.—Stanley', '13060', 'C.', '(Gilling-', 'ham).', 'WILTSHIRE', 'REGIMENT.', '—', 'Matthews', '6786', 'W.', 'F.', '(Timbers-', 'combe).', 'DURHAM', 'LIGHT', 'INFANTRY.—Young', '201929', 'J.', '(Sittingbourne).', 'SEAFORTH', 'HIGHLANDERS.—McLeod', '7468', 'M.', '(Stornoway);', 'Ross', '7666', 'K.', '(Dingwall).', 'CONNAUGHT', 'RANGERS.—Gibbons', '7497', 'J.', '(Glasgow).', 'ROYAL', 'DUBLIN', 'FUSILIERS.—Quinn', '26818', 'L.-Cpl.', 'D.', '(Mag-', 'heranappin).', 'RIFLE', 'BRIGADE.—Grimmett', '2122', 'A.', 'E.', '(Maidenhead);', 'Love-', 'day', '207826', 'L.-Cpl.', 'F.', 'J.', '(Brentford).', 'ARMY', 'SERVICE', 'CORPS.—Barker', 'T/4/092186', 'Dvr.', 'A.', '(Stoke', 'Bardolph);', 'Cook', 'S4/128289', 'Sjt.', 'C.', 'W.', '(Weybridge);', 'Crouch', 'S4/146498', 'C.', 'H.', '(Tunbridge', 'Wells);', 'Humphreys', 'T/2/029424', 'Dvr.', 'J.', 'W.', '(Canton);', 'Jones', 'DM2/195038', 'W.', '(Mold);', 'LapKam', 'T/4/13658', 'Dvr.', 'B.', '(Kilmington);', 'Latter', 'T/1/225', 'Dvr.', 'G.', '(Kilburn,', 'N.W.);', 'Mellon', 'T/254944', 'E.', '(Chelsea,', 'S.W.);', 'Murphy', 'M2/114149', 'R.', 'G.', '(Hove);', 'Stacey', 'Ti/2209', 'J.', '(Guildford).', 'ROYAL', 'ARMY', 'MEDICAL', 'CORPS.—Darke', '37330', 'Cpl.', 'B.', '(Sun-', 'derland);', 'Pearson', '64247', 'Cpl.', 'E.', 'L.', '(Leith);', 'Weaver', '3237', 'G.', '(Burs-', 'lem).', 'Previously', 'reported', 'missing,', 'believed', 'drowned,', 'now', 'reported', 'DROWNED.', 'ROYAL', 'ENGINEERS.—Edwards', '257332', 'Spr.', 'G.', 'G.', '(Liverpool)', 'ARMY', 'SERVICE', 'CORPS.—Moran', \"^'33084\", 'B.', '(Boyle).', 'WOUNDED.', 'HUSSARS.—Fort', '3937', 'A.', 'F.', '(London).', 'YEOMANRY.—Haywood', '75618', 'G.', '(Derby);', 'Pearson', '76179', 'G', '(Leeds);', 'Smith', '75686', 'E.', 'H.', '(Dronfield).', 'ROYAL', 'FIELD', 'ARTILLERY', '—Jarvis', '19445', 'Sit.', 'J.', 'T.', '(Wolver-', 'hampton)', ';', 'Sullivan', '741286', 'Dvr.', 'M.', '(Lower', 'Pontnewydd).', 'ROYAL', 'ENGINEERS.—Woodward', '65779', 'L.-Cpl.', 'A.', '(Newington', 'Butts,', 'S.E.);', 'Woodward', '522334', 'Pnr.', 'A.', '(Bedford).', 'NORFOLK', 'REGIMENT.—Jarvis', '200578', 'W.', 'R.', '(Langham,', 'Norfolk)', ';', 'Snowling', '200831', 'J.', '(Alburgh);', 'Wright', '201502', 'B.', 'A.', '(Newton).', 'LANCASHIRE', 'FUSILIERS.—Evans', '280859', 'H.', '(Broughton).', 'CHESHIRE', 'REGIMENT.—Brown', '36043', 'T.', '(Ellesmere', 'Port);', 'Brownhill', '15291', 'C.', '(Glossop);', 'Ellis', '36482', 'J.', '(Birkenhead);', 'Faulkner', '16302', 'W.', '(Birmingham);', 'Gribben', '33674', 'L.-Cpl.', 'V.', '(Douglas,', 'I.O.M.);', 'Helm', '58453', 'S.', '(Wallasey);', 'Hibbert', '16393', 'D.', '(Stockport);', 'Hynch', '36312', 'J.', 'H.', '(Chester);', 'Moors', '34582', 'P.', '(Lower', 'Whitley);', 'Partington', '15930', 'Sjt.', 'W.', 'H.', '(Egremont);', 'Phoenix', '12835', 'L.-Col.', 'W.', '(Salemoor);', 'Preston', '35720', 'C.', 'W.', '(Chester)', ';', 'Royle', '36049', 'W.', 'fStock-', 'ton);', 'Summers', '16295', 'j.', 'R.', '(Stockport)', ';', 'Sutton', '35835', 'A.', 'G.', '(Crewe);', 'Turton', '16094', 'L.-Cpl.', 'A.', 'C.', '(Winnington);', 'Walker', '11821', 'S.', '(Stock-', 'port}.', 'HAMPSHIRE', 'REGIMENT.—Dyer', '330067', 'A.', '(Ryde).', 'MACHINE', 'GUN', 'CORPS.—Blois', '49259', 'W.', 'J.', '(East', 'Ham,', 'E.);', 'Cox', '54010', 'W.', '(March);', 'Darkin', '44472', 'J.', '(Chesterfield).', 'Previously', 'reported', 'wounded,', 'now', 'reported', 'WOUNDED', 'AND', 'MISSING.', 'CHESHIRE', 'REGIMENT.—Clark', '201037', 'J.', '(Birkenhead).', 'SOUTH', 'LANCASHIRE', 'REGIMENT.—Craven', '11752', 'T.', 'Warr-', 'ington).', 'Previously', 'reported', 'wounded', 'and', 'missing,', 'now', 'reported', 'WOUNDED', 'AND', 'MISSING,', 'BELIEVED', 'KILLED.', 'LONDON', 'REGIMENT.—Downes', '451431', 'T.', 'W.', '(Darlington).', 'Previously', 'reported', 'missing,', 'now', 'reported', 'WOUNDED', 'AND', 'MISSING,', 'BELIEVED', 'KILLED.', 'HAMPSHIRE', 'REGIMENT.—Shepherd', '331531', 'W.', '(Fratton).', 'MISSING,', 'BELIEVED', 'KILLED.', 'CHESHIRE', 'REGIMENT.—McGee', '13793', 'J.', '(Mallaghbawn).', 'Previously', 'reported', 'missing,', 'now', 'reported', 'MISSING,', 'BELIEVED', 'KILLED.', 'WORCESTERSHIRE', 'REGIMENT.—Carman', '10144', 'A.', '(Spieth-', 'wick;.', 'HAMPSHIRE', 'REGIMENT.—Trueman', '330393', 'L.-Cpl.', 'E.', '(Shank-', 'lin).', 'LONDON', 'REGIMENT.—Heading', '451612', 'L.-Cpl.', 'J.', 'A.', 'R.', '(High', 'Hoi', 'born,', 'W.C.).', 'Previously', 'reported', 'wounded,', 'now', 'reported', 'not', 'wounded.', 'SOUTH', 'LANCASHIRE', 'REGIMENT.—Howarth', '27072', 'W.', '(Wilmslow).', 'Previously', 'reported', 'missing,', 'believed', 'drowned,', 'now', 'reported', 'not', 'missing.', 'ROYAL', 'IRISH', 'REGIMENT.—Hughes', '5605', 'B.', '(Dundalk);', 'Mor-', 'gan', '5611', 'E.', '(Glasgow).', 'PART', 'VII.', 'WARRANT', 'OFFICERS,', 'NON-COMMISSIONED', 'OFFICERS,', 'AND', 'MEN.', 'THE', 'FOLLOWING', 'ARE', 'REPORTED', 'PRISONERS', 'OF', 'WAR', 'IN', 'LISTS', 'RECEIVED', 'FROM', 'THE', 'GERMAN', 'GOVERNMENT.', 'WOUNDED', 'AND', 'PRISONER', 'OF', 'WAR.', 'ROYAL', 'BERKSHIRE', 'REGIMENT.—Huntley', '7221', 'F.', 'J.', '(Ken-', 'tish', 'Town,', 'N.W.).', 'Previously', 'reported', 'wounded', 'and', 'missing,', 'now', 'reported', 'WOUNDED', 'AND', 'PRISONER', 'OF', 'WAR.', 'LANCASHIRE', 'FUSILIERS.—Tonge', '35494', 'P.', '(Manchester).', 'Previously', 'reported', 'missing,', 'now', 'reported', 'WOUNDED', 'AND', 'PRISONERS', 'OF', 'WAR.', 'GLOLTCESTER', 'REGIMENT.—Barnes', '267001', 'E.', 'B.', '(Bristol).', 'WORCESTER', 'REGIMENT.—Packer', '242544', 'J.', '(Worcester);', 'Phillips', '242547', 'L.-Cpl.', 'F.', '(Redditch).', 'OXFORDSHIRE', 'AND', 'BUCKINGHAMSHIRE', 'LIGHT', 'IN-', 'FANTRY.—Hodges', '201747', 'W.', '(Shipton-under-Wychwood).', 'ROYAL', 'BERKSHIRE', 'REGIMENT.—Taylor', '10287', 'M.', '(Birming-', 'ham).', 'MANCHESTER', 'REGIMENT.—Davies', '36277', 'J.', 'W.', '(Oldham).', 'RIFLE', 'BRIGADE.—Withey', '26277', 'A.', 'G.', '(Finsbury,', 'N.).', 'PART', 'VII.', 'W.O.’s,', 'N.C.O.’s,', 'AND', 'MEN', '(Contd.).', 'Previously', 'reported', 'killed,', 'now', 'reported', 'PRISONER', 'OF', 'WAR.', 'ROYAL', 'WARWICKSHIRE', 'REGIMENT.—Penney', '23958', 'A.', '(Bir', 'mingham).', 'Previously', 'reported', 'wounded', 'and', 'missing,', 'now', 'reported', 'PRISONERS', 'OF', 'WAR.', 'KING’S', 'ROYAL', 'RIFLE', 'CORPS.—Gay', '32144', 'W.', 'H.', '(Poplar,', 'E.', '(Lower', 'Clapton,', 'E.).', 'Previously', 'reported', 'missing,', 'now', 'reported', 'PRISONERS', 'OF', 'WAR.', 'ROYAL', 'FLYING', 'CORPS.—Lewis', '78492', 'Sjt.', 'G.', '(Birmingham).', 'HOUSEHOLD', 'BATTALION.—Pugh', '1443', 'W.', '(Treorchy).', 'BEDFORDSHIRE', 'REGIMENT.—Wade', '30850', 'J.', '(Luton).', 'WORCESTERSHIRE', 'REGIMENT.—Rock', '241185', 'J.', '(Pendock).', 'SOUTH', 'STAFFORDSHIRE', 'REGIMENT.—Allen', '40629', 'W.', 'J.', '(Newcastle-on-Tyne);', 'Barker', '23003', 'F.', '(Lincoln);', 'Blanchflower', '31777', 'T.', '(Heaton);', 'Cotterill', '16628', 'L.-Cpl.', 'A.', '(Wednesbury);', 'Cross', '14900', 'F.', 'J.', '(Birmingham);', 'Curry', '40630', 'T.', '(Newcastle-on-Tyne);', 'Cutler', '2S451', 'F.', '(West', 'Bronryvich);', 'Dawson', '40060', 'G.', '(Newcastle);/Derry', '51636', 'T.', '(Walsall);', 'Driden', '19437', 'J.', '(West', 'Bromwich);', 'Ford', '40631', 'W.', '(Newcastle-on-Tyne);', 'Gibbons', '9154', 'L.-Cpl.', 'J.', 'H.', '(Darlaston);', 'Green', '40091', 'A.', '(Leicester);', 'Flails', '14718', 'W.', '(Birmingham);', 'Harts-', 'horn', '32517', 'H.', '(Leicester);', 'Hodgkinson', '9671', 'L.-Cpl.', 'A.', '(Walsall);', 'Jackson', '40093', 'E.', '(Stoke);', 'Kirby', '9557', 'Sjt.', 'W.', 'H.', '(Walsall);', 'Phipps', '16267', 'J-', '(Walsall);', 'Platt', '31513', 'H.', '(Wolverhampton);', 'Twemlow', '40083', 'H.', '(Tamworth);', 'White', '8955', 'W.', '(Wolverhampton).', 'ESSEX', 'REGIMENT.—King', '41643', \"'A.\", 'M.', '(Brancaster).', 'MANCHESTER', 'REGIMENT.—Boothman', '34704', 'T.', '(Manchester);', 'Grognet', '45057', 'W.', '(Oldham);', 'Hamblett', '376590', 'J.', 'E.', '(Oldham).', 'RIFLE', 'BRIGADE.—Stevens', '1489', 'R.', '(London,', 'N.);', 'Woodhead', '8916', 'T.', 'A.', '(Rochdale).', 'THE', 'FOLLOWING', 'REPORTS', 'HAVE', 'BEEN', 'RECEIVED', 'FROM', 'VARIOUS', 'SOURCES.', 'Previously', 'reported', 'wounded.', 'and', 'missing,', 'now', 'reported', 'WOUNDED', 'AND', 'PRISONERS', 'OF', 'WAR', 'IN', 'GERMAN', 'HANDS.', 'QUEEN’S', '(ROYAL', 'WEST', 'SURREY', 'REGIMENT).—Needs', '22179', 'R.', 'J.', '(West', 'Kensington,', 'W.).', 'ROYAL', 'FUSILIERS.—Smith', '9631', 'H.', '(St.', 'Anne’s-on-Sea,', 'Lancs.).', 'MIDDLESEX', 'REGIMENT.—Chant', '241097', 'C.', 'W.', '(Chiswick,', 'W.).', 'Previously', 'reported', 'missing,', 'now', 'reported', 'WOUNDED', 'AND', 'PRISONERS', 'OF', 'WAR', 'IN', 'GERMAN', 'HANDS.', 'THE', 'BUFFS', '(EAST', 'KENT', 'REGIMENT).—Myhil', '13239', 'S.', '(Hemsley).', 'ROYAL', 'FUSILIERS.—Poison', '10009', 'L.-Cpl.', 'J.', 'P.', '(Edinburgh);', 'Reed', '35217', 'H.', 'M.', '(Clapham,', 'S.W.).', 'KING’S', '(LIVERPOOL', 'REGIMENT).—Bates', '11843', 'D.', '(Liver-', 'pool).', 'EAST', 'SURREY', 'REGIMENT.—Baker', '25718', 'L.-Cpl.', 'G.', '(Aid-', 'burgh).', 'MIDDLESEX', 'REGIMENT.—Boardman', '32314', 'E.', '(Brentwood);', 'Drackett', '15142', 'L.-Cpl.', 'W.', '(Barnet);', 'Herod', '33462', 'J.', '(Wood', 'Green,', 'N.);', 'Wade', '50167', 'A.', '(Witham).', 'PRISONERS', 'OF', 'WAR', 'IN', 'GERMAN', 'HANDS.', 'QUEEN’S', '(ROYAL', 'WEST', 'SURREY', 'REGIMENT).—Squires', '37951', 'C.', '(Camberley).', 'THE', 'BUFFS', '(EAST', 'KENT', 'REGIMENT).—Adams', '2807', 'J.', '(Wick-', 'hambream).', \"'\", 'EAST', 'SURREY', 'REGIMENT.—McCallum', '201153', 'F.', 'J.', '(Wimble-', 'don,', 'S.W.);', 'Moth', '202994', 'H.', 'G.', '(Frimley', 'Green).', 'Previously', 'reported', 'killed,', 'now', 'reported', 'PRISONER', 'OF', 'WAR', 'IN', 'GERMAN', 'HANDS.', 'LEICESTERSHIRE', 'REGIMENT.—Dexter', '11712', 'L.-Cpl.', 'H.', '(Roth', 'ley).', 'Previously', 'reported', 'wounded', 'and', 'missing,', 'now', 'reported', 'PRISONERS', 'OF', 'WAR', 'IN', 'GERMAN', 'HANDS.', 'QUEEN’S', '(ROYAL', 'WEST', 'SURREY', 'REGIMENT).—Woodhouse', '13760', 'W.', '(Peterborough).', 'THE', 'BUFFS', '(EAST', 'KENT', 'REGIMENT).—Brett', '800', 'W.', 'J.', '(Sandwich).', 'KING’S', '{LIVERPOOL', 'REGIMENT).—Bolton', '52516', 'R.', '(Oldham).', 'LANCASHIRE', 'FUSILIERS.—Entwistle', '38055', 'R.', '(Bury).', 'ROYAL', 'SCOTS', 'FUSILIERS.—Miller', '7639', 'A.', '(Glasgow).', 'CAMERONIANS', '(SCOTTISH', 'RIFLES).—Park', '25925', 'A.', '(Morra-', 'cute,', 'Somersetshire).', 'EAST', 'LANCASHIRE', 'REGIMENT.—Slack', '200574', 'L.-Cpl.', 'T.', '(Blackburn).', '&gt;', 'EAST', 'SURREY', 'REGIMENT.—King', '9236', 'F.', '(Wimbledon,', 'S.W.).', 'Previously', 'reported', 'missing,', 'now', 'reported', 'PRISONERS', 'OF', 'WAR', 'IN', 'GERMAN', 'HANDS.', 'HOUSEHOLD', 'BATTALION.—McLean', '1915', 'A.', '(Rankiston);', 'Paine', '1137', 'C.', '(Salisbury).', 'ROYAL', 'SCOTS.—Middleton', '47412', 'H.', '(Nottingham)', ';', 'Milne', '27786', 'A.', '(Inverurie);', 'Niven', '26265', 'W.', 'C.', '(Coathie).', \"QUEEN'S\", '(ROYAL', 'WEST', 'SURREY', 'REGIMENT).—Eldred', '13717', 'L.-Cpl.', 'F.', '(Irthlingboro’,', 'Northants);', 'Harris', '3707', 'Sjt.', 'H.', '(Brentford);', 'Hughes', '6526', 'Cpl.', 'T.', '(Hackney,', 'E.);', 'Wright', '37018', 'Cpl.', 'S.', '(Croydon).', 'THE', 'BUFFS', '(EAST', 'KENT', 'REGIMENT).—Berrett', '3464', 'L.-Cpl.', 'J.', 'R.', '(Dalston,', 'E.);', 'Brown', '13670', 'J.', '(Lamberhurst);', 'Croft', '13639', 'A.', '(Marden);', 'Holyman', '13735', 'C-', 'W.', '(Carshalton-on-Hill):', 'Marks', '20844', 'G.', 'P.', 'A.', '(Upper', 'Walmer);', 'Richardson', '13425', 'E.', 'A.', '(Hanworth);', 'Sanders', '13715', 'S.', 'A.', 'F.', '(Kennington,', 'S.E.);', 'Waller', '13184', 'J.', 'H.', '(Godaiming).', 'KING’S', 'OWN', '(ROYAL', 'LANCASTER', 'REGIMENT).—Clay', '27228', 'G.', '(Wilsford);', 'Fewtrell', '27117', 'B.', '(Wolverhampton);', 'Thompson', '26033', 'A.', 'E.', '(Manchester).', 'ROYAL', 'FUSILIERS.—Billenness', '27174', 'H.', '(Eastbourne)', ';', 'Durling', '65142', 'F.', '(Chatham);', 'Holman', '52514', 'W.', '(Crawley);', 'Partridge', '60381', 'A.', '(Chelmsford);', 'Perkins', '22141', 'C.', '(Forest', 'Gate,', 'E.)', ';', 'Smallridge', '5407', 'A.', '(Horsham);', 'Wood', '27836', 'W.', 'C.', '(Eastbourne).', 'LINCOLNSHIRE', 'REGIMENT.—Bakewell', '43644.', 'L.-Cpl.', 'S.', 'T.', '(Walsall);', 'Bell', '28221', 'F.', '(Stamford);', 'Dunn', '241986', 'W.', 'J.', '(Camberwell,', 'S.E.)', ';', 'Hayes', '25498', 'L.-Cpl.', 'T.', '(Marchay);', 'Janney', '241356', 'Cpl.', 'F.', '(St.', 'Helen’s,', 'Leeds);', 'Martin', '1685', 'A.', 'C.', '(Cleethorpes);', 'Sillett', '30608', 'J.', '(Sunderland);', 'Walker', '43498', 'H.', '(Evesham).', 'DEVONSHIRE', 'REGIMENT.—Cobbett', '21646', 'L.-Cpl.', 'R.', 'H.', 'B.', '(Portsmouth).', 'LEICESTERSHIRE', 'REGIMENT.—Charlesworth', '37811', 'A.', '(With-', 'ington);', 'Clifford', '36508', 'H.', '(Southall);', 'Dixon', '202312', 'J.', 'FI.', '(East', 'Kirby);', 'Donnelly', '36566', 'Cpl.', 'J.', '(Witton);', 'Holland', '10817', 'G-', '(Leyton-', 'stone,', 'E.);', 'Lole', '20840', 'E.', '(Rothley);', 'Maycock', '36045', 'A.', '(Mapperley)', ';', 'Pell', '20023', 'A.', '(Boston);', 'Stevens', '31197', 'J.', 'A.', '(Leicester).', 'LANCASHIRE', 'FUSILIERS.', '—', 'Burgess', '26559', 'E.', '(Ashton-under-', 'Lyne);', 'Calpin', '27858', 'P.', '(York);', 'Duffy', '2918', 'G.', '(Hull);', 'Hart', '37947', 'T.', 'Broughton);', 'Hearn', '38367', 'G.', 'H.', '(Wealdstone);', 'Johnson', '37101', 'P.', '(Stockport);', 'Reece', '5030', 'W.', '(Pendleton);', 'Robson', '37636', 'C.', '(Pendle-', 'bury);', 'Smith', '35049', 'G.', '(Nelson);', 'Wilson', '27708', 'J.', '(Gateshead).', 'ROYAL', 'SCOTS', 'FUSILIERS.—Strang', '40484', 'G.', '(Glasgow);', 'Thom-', 'son', '40345', 'R.', '(Edinburgh).', \"KING'S\", 'OWN', 'SCOTTISH', 'BORDERERS.', '—', 'Angus', '24829', 'J.', '(Edinburgh);', 'Elston', '29293', 'H.', '(Batley);', 'Gray', '23858', 'T.', '(Thornhill);', 'Hall', '23862', 'F.', '(Ecclefechan);', 'Hill', '27243', 'A.', '(Glasgow);', 'Jackson', '20501', 'L.-Cpl.', 'T.', '(Dunfermline);', 'Little', '13089', 'G.', '(Broxburn);', 'Mclvor', '6787', 'W.', '(Maryport);', 'Thomson', '23865', 'L.-Cpl.', 'T.', '(Roxburgh).', 'EAST', 'SURREY', 'REGIMENT.—Adams', '30764', 'W.', '(Hampton', 'Wick);', 'Ashton', '28024', 'H.', '(Bayswater,', 'W.)', ';', 'Aspinall', '32404', 'F.', '(St.', 'Ives', 'Hunts)', ';', 'Austin', '11577', 'L.-Cpl.', 'E.', '(Mortlake,', 'S.W.);', 'Baigent', '6616', 'F.', '(Bath);', 'Balchin', '30719', 'E.', '(Guildford);', 'Bareham', '32453', 'F.', 'P.', '(East', 'Dulwich,', 'S.E.);', 'Barker', '31079', 'A.', '(Wandsworth,', 'S.W.);', 'Beckett', '10899', 'N.', '(Great', 'Yarmouth);', 'Beevor', '11921', 'A.', '(Shoreditch,', 'E.);', 'Bradley', '6267', 'E.', '(Twickenham);', 'Braiden', '30616', 'J.', 'S.', '(Beeding);', 'Breedon', '31140', 'P.', '(Epsom);', 'Brooks', '25859', 'L.-Cpl.', 'J.', '(Peckham,', 'S.E.);', 'Brown', '30722', 'J.']\n"
     ]
    }
   ],
   "source": [
    "def read_file(file_ID):\n",
    "    \"\"\"\n",
    "    file_ID - string, the name or ID of the XML file.\n",
    "    return value: string, with the text of file_ID\n",
    "    \"\"\"\n",
    "    # open the file and read it\n",
    "    with open(file_ID, encoding=\"utf8\") as f:\n",
    "         data = f.read()\n",
    "    Bs_data = BeautifulSoup(data, \"xml\")\n",
    "    \n",
    "    # get the content (text) of the paper (most of the XML file is tecnical detail like fonts and word size...)\n",
    "    # taking all the branches start with 'string', then take from each one the 'CONTENT' component, then striping it from \n",
    "    # all the non relevant signs. can print at any stage to see where we standing.\n",
    "    d_CONTENT = Bs_data.find_all('String')\n",
    "    words =[]\n",
    "    for s in d_CONTENT:\n",
    "        branch = str(s)\n",
    "        sentence = branch.split(\" \")\n",
    "        word = sentence[1].split(\"=\")\n",
    "        words.append(word[1].strip('\"'))\n",
    "    \n",
    "    #return the content as a list\n",
    "    return words\n",
    "\n",
    "    #put it all togather and return it as a string\n",
    "    #file_content = ' '.join(words)\n",
    "    #return file_content\n",
    "    \n",
    "corrent_file = read_file('194139080.34.xml')\n",
    "# s_corrent_file = ' '.join(l_corrent_file)                             maybe return of the func to l_corrent_file and than join for s_corrent_file\n",
    "# this way we will have list with the file content and the content as a string\n",
    "print(read_file('194139080.34.xml'))  "
   ]
  },
  {
   "cell_type": "markdown",
   "metadata": {},
   "source": [
    "this function supose to extract the date of the report."
   ]
  },
  {
   "cell_type": "code",
   "execution_count": 9,
   "metadata": {},
   "outputs": [
    {
     "name": "stdout",
     "output_type": "stream",
     "text": [
      "('1917', 'August', '4-t')\n"
     ]
    }
   ],
   "source": [
    "month_list =['January', 'February', 'March', 'April', 'May', 'June', 'July', 'August', 'September', 'October', 'November', 'December']\n",
    "years_list =['1914', '1915', '1916', '1917', '1914.', '1915.', '1916.', '1917.']\n",
    "\n",
    "def get_date(corrent_file):\n",
    "    \"\"\"\n",
    "    corrent_file: type: list. the list with the content recieved from read_file function\n",
    "    return: tuple: (year, month, day).\n",
    "    \"\"\"\n",
    "    \n",
    "    for w in corrent_file[:150]:\n",
    "        if w in month_list:\n",
    "            month = corrent_file[corrent_file.index(w)]\n",
    "            day = corrent_file[corrent_file.index(w)+1]\n",
    "\n",
    "        elif w in years_list:\n",
    "            year = str(w)\n",
    "    #return the tuple but without unrelevent thing        \n",
    "    return(year[0:4], month, day[:-2])\n",
    "\n",
    "print(get_date(corrent_file))"
   ]
  },
  {
   "cell_type": "markdown",
   "metadata": {},
   "source": [
    "\n",
    "option to print th ontent of our file as a long string and not as a list (not as comfortable for manipulation)"
   ]
  },
  {
   "cell_type": "code",
   "execution_count": 62,
   "metadata": {},
   "outputs": [
    {
     "name": "stdout",
     "output_type": "stream",
     "text": [
      "['WAR', 'OFFICE', 'WEEKLY', 'CASUALTY', 'LIST,', 'AUGUST', '7th,', '1917', '2', '&gt;u', 'Daily', 'List', 'of', 'July', '30th', '(Gontd.).', 'PART', 'III.', 'W.O.’s,', 'N.C.O.’s,', 'AND', 'MEN', '(Contd.).', 'Previously', 'reported', 'wounded', 'and', 'missing,', 'now', 'reported', 'KILLED.', 'MANCHESTER', 'REGIMENT,', 'ATTACHED', 'LOYAL', 'NORTH', 'LANCASHIRE', 'REGIMENT.—Chafer', '15715', 'D.', '(Manchester).', 'SEAFORTH', 'HIGHLANDERS.—Brine', '12647', 'L.-Cpl.', 'H.', '(St.', 'Mary,', 'Dorset);', 'Campbell', '12609', 'D.', '(Wick);', 'Leigh', '10725', 'F.', '(Hulme);', 'MacAulay', '2965', 'D.', '(Wick);', 'McDonald', '10973', 'D.', '(Leith);', 'McNiven', '12530', 'J.', '(Longfoxgan);', 'Thomson', '9243', 'J.', '(Ayr).', 'CAMERON', 'HIGHLANDERS.—McGregor', '13876', 'Sjt.', 'J.', 'A.', '(Oban);', 'McKnight', '21868', 'J.', '(Glasgow);', 'Oliver', '40982', 'J.', '(Inverness);', 'Young', '13915', 'L.-Cpl.', 'A.', '(Hamilton).', 'ROYAL', 'IRISH', 'FUSILIERS.—Donaghy', '23452', 'E.', '(Belfast).', 'ROYAL', 'DUBLIN', 'FUSILIERS.—Riardan', '25369', 'Act.', 'L.-Cpl.', 'J.', '(Glasgow).', 'RIFLE', 'BRIGADE.—Newman', '2316', 'Sjt.', 'A.', 'C.', '(Ropley).', 'MACHINE', 'GUN', 'CORPS.—Harrow', '60900', 'J.', '(Edinburgh);', 'Rutherford', '76686', 'Gnr.', 'T.', '(St.', 'Ninians).', 'LONDON', 'REGIMENT.—Ankers', '372125', 'R.', '(Malpas);', 'Bell', '372823', 'J.', '(Blythe);', 'Binks', '652040', 'A.', 'A.', '(Bow,', 'E.);', 'Bowdery', '653210', 'S.', 'C.', '(Mitcham);', 'Chandler', '532680', 'A.', 'E.', '(Stepney,', 'E.);', 'Clarke', '652503', 'A.', '(Windsor);', 'Cole', '373364', 'A.', 'W.', 'N.', '(tas-t', 'Sheen,', 'S.W.);', 'Connolly', '653283', 'S.', 'A.', '(Clapham,', 'S.W.);', 'Cox', '370198', 'H.', 'G.', '(East', 'Ham,', 'E.);', 'Davies', '371781', 'G.', 'L.', '(Manchester);', 'Downing', '652602', 'N.', '(Falmouth);', 'Eden', '372300', 'R.', '(Barnet);', 'Eggleton', '653359', 'E.', '(Bermondsey,', 'S.E.);', 'Freeston', '532067', 'C.', 'B.', '(Peckham,', 'S.E.);', 'Gilbert', '372299', 'L.-Cpl.', 'W.', 'G.', '(Peckham,', 'S.E.);Hardy', '371369', 'G.', 'C.', '(Leicester);', 'Hinton', '372904', 'E.', '(London,', 'S.E.);', 'Ho.ll', '653246', 'E.', '(Clapham,', 'S.W.);', 'Hollingsworth', '681947', 'S.', 'H.', '(Woolwich,', 'S.E.);', 'Howell', '234140', 'A.', 'J.', '(Gospel', 'Oak,', 'N.W.);', 'Izzard', '653303', 'W.', 'J.', '(Basingstoke);', 'Jacobs', '653192', 'H.', '(Peck-', 'ham,', 'S.E.);', 'Janaway', '653305', 'F.', 'S.', '(Mitcham);', 'Jenner', '652615', 'A.', 'J.', '(Hoxton,', 'N.);', 'Jennings', '301981', 'E.', 'F.', '(Staines);', 'Jepps', '370723', 'W.', '(Tottenham,', 'N.);', 'Johnson', '372902', 'A.', 'E.', '(Harringay,', 'N.);', 'Jolly', '532625', 'H.', 'F.', '(Streatham,', 'S.W.);', 'Kirby', '372890', 'J.', 'R.', '(Middles-', 'brough);', 'Lock', '652368', 'F.', 'C.', '(Camberwell,', 'S.E.)J', 'Martin', '372946', 'H.', '(Scarborough);', 'Morgan', '683132', 'R.', 'A.', '(Stoke', 'Poges);', 'Parker', '651089', 'C.', '(Nunhead,', 'S.E.);', 'Parton', '683136', 'G.', '(Newbury);', 'Perry', '683139', 'S.', 'W.', '(Penge,', 'S.E.);', 'Pyke', '653366', 'A.', 'G.', '(Newbury);', 'Ramsell', '651325', 'G.', '(Camberwell,', 'S.E.);', 'Rowe', '531668', 'H.', 'J.', 'P.', '(Clapham,', 'S.W.);', 'Russell', '532668', 'A.', 'W.', '(Farnham);', 'Skipper', '372371', 'J.', 'G.', '(Yarmouth);', 'Slade', '653267', 'E.', 'T.', '(Bristol);', 'Smith', '372066', 'E.', 'D.', '(St.', 'Heliers);', 'Stepto', '532627', 'C.', 'F.', '(Clapham,', 'S.W.);', 'Turnbull', '372908', 'F.', 'W.', '(Gates-', 'head);', 'Vallis', '653320', 'W.', 'G.', '(Tooting,', 'S.W.);', 'Wade', '653321', 'A.', 'G.', '(Wandsworth,', 'S.W.);', 'Williams', '372716', 'H.', 'F.', '(Finchley,', 'N.)', ';', 'Wilson', '653340', 'G.', 'W.', '(Hackney,', 'E.);', 'Winston', '371287', 'J.', 'F.', '(Birmingham);', 'Yule', '372341', 'J.', '(St.', 'Boswells).', 'DIED', 'OF', 'WOUNDS.', 'ROYAL', 'FIELD', 'ARTILLERY.—Brunsden', '926515', 'Gnr.', 'C.', '(Walthamstow,', 'E.);', 'Carlyon', '37740', 'Act.-Bdr.', 'P.', 'D.', '(Clapton,', 'E.);', 'Hayhoe', '48161', 'Dvr.', 'T.', 'J.', '(Chelsea,', 'S.W.);', 'Hunt', '663262', 'Gnr.', 'B.', '(Uppingham);', 'Minshall', '131565', 'Gnr.', 'G.', '(Newport);', 'Motroni', '11389', 'Gnr.', 'J.', '(Ipswich);', 'Todman', '48037', 'Gnr.', 'J.', 'W.', '(Fulham,', 'S.W.).', 'ROYAL', 'GARRISON', 'ARTILLERY.—Featherstone', '124007', 'Gnr.', 'A.', '(Cheetham);', 'Ginn', '149553', 'Whir.', 'J.', 'E.', '(Spalding);', 'Powell', '31377', 'Sjt.', 'G.', '(Liphook)', ';', 'Pragnell', '283318', 'Gnr.', 'A.', 'J.', 'H.', '(Salisbury);', 'Tingle', '311038', 'Gnr.', 'S.', 'C.', '(Stockton).', 'ROYAL', 'ENGINEERS—Parkin', '104258', 'Dvr.', 'E.', 'W.', '(Chilton).', 'ROYAL', 'SCOTS.—Murray', '38057', 'J.', '(Glasgow).', 'QUEEN’S', '(ROYAL', 'WEST', 'SURREY', 'REGIMENT).—Seabury', '204901', 'C.', 'E.', '(Shrewsbury).', 'ROYAL', 'WARWICKSHIRE', 'REGIMENT.', '—', 'Collett', '9821', 'T.', '(Smethwick);', 'Edwards', '19060', 'A.', '(Coventry);', 'Younig', '17408', 'L.', 'G.', '(Marton).', 'ROYAL', 'FUSILIERS.—Bradford', '48170', 'W.', '(Great', 'Wratting).', 'KING’S', '(LIVERPOOL', 'REGIMENT)—Lowther', '307942', 'J.', '(Liver-', 'pool)', ';', 'Sinnott', '31399', 'W.', '(Liverpool).', 'LINCOLNSHIRE', 'REGIMENT.—Brown', '240014', 'Co.-Sjt.-Maj.', 'H.', '(Alford);', 'Dickinson', '240292', 'H.', '(Barton-on-Humber).', 'WEST', 'YORKSHIRE', 'REGIMENT.', '—', 'Busfield', '1412', 'L.-Cpl.', 'G.', '(Bradford);', 'Horry', '307615', 'J.', 'W.', '(Stickney);', 'Illingworth', '41449', 'A.', '(Idle);', 'Lucas', '266653', 'H.', '(Leeds);', 'May', '260060', 'L.', '(Bradford);', 'Taylor', '16073', 'T.', 'W.', '(Birghton);', 'Winn', '47984', 'j.', 'L.', '(Nottingham).', 'EAST', 'YORKSHIRE', 'REGIMENT.—Bazeley', '27926', 'E.', 'J.', '(North-', 'ampton).', 'YORKSHIRE', 'REGIMENT.—Robertson', '42576', 'E.', 'A.', '(Heaton).', 'LANCASHIRE', 'FUSILIERS.—Moorhouse', '307874', 'W.', '(Liverpool).', 'SOUTH', 'WALES', 'BORDERERS.—Campden', '39539', 'T.', '(Shotton);', 'Farthing', '40876', 'A.', 'G.', '(Darlington);', 'Wall', '25679', 'W.', '(Newport).', 'KING’S', 'OWN', 'SCOTTISH', 'BORDERERS.—McLaughlin', '18791', 'J.', '(Duntocher);', 'Welsh', '26471', 'M.', '(Partick).', '•', 'CAMERON', 'IANS', '(SCOTTISH', 'RIFLES).—Getty', '27539', 'H.', '(Glasgow);', 'Thorburn', '235131.', 'T.', '(Galashiels).', 'GLOUCESTERSHIRE', 'REGIMENT.—Buffin', '240776', 'G.', 'W.', '(Pontyclun);', 'Medway', '31336', 'H.', 'T.', '(Bristol).', 'EAST', 'LANCASHIRE', 'REGIMENT.—Bolton', '21176', 'J.', '(Darwen)', 'BORDER', 'REGIMENT.—Charnock', '241975', 'J.', 'W.', '(Manchester);', 'Oliver', '242273', 'T.', '(Rochdale);', 'Osborne', '241207', 'L.-Cpl.', 'F.', 'M.', '(Silloth).', 'ROYAL', 'SUSSEX', 'REGIMENT.—Venn', '1780', 'W.', 'E.', '(Billing-', 'hurst).', 'WELSH', 'REGIMENT.—Cook', '50017', 'G.', '(Madley);', 'James', '267081', 'S.', '(Cwmgwrach);', 'Williams', '30494', 'R.', '(Treharris).', 'THE', 'BLACK', 'WATCH.—Petrie', '2543', 'D.', '(Dundee).', 'ESSEX', 'REGIMENT.—Bullard', '202811', 'H.', '(St.', 'Osyth);', 'Plastow', '202778', 'G.', '(Widford);', 'SHERWOOD', 'FORESTERS.—Archer', '265330', 'L.-Sjt.', 'F.', '(Notting-', 'ham);', 'Bunting', '240273', 'C.', '(Millers', 'Dale);', 'Pearson', '80046', 'J.', '(Leicester).', 'LOYAL', 'NORTH', 'LANCASHIRE', 'REGIMENT.—Hudson', '200202', 'J.', '(Kirkham).', 'NORTHAMPTONSHIRE', 'REGIMENT.—Swallow', '15560', 'W.', 'E.', '(Northampton).', 'ROYAL', 'BERKSHIRE', 'REGIMENT.—Thompson', '12146', 'R.', 'C.', '(East', 'Greenwich).', 'KING’S', 'OWN', '(YORKSHIRE', 'LIGHT', 'INFANTRY).—Colbridge', '35231', 'L.-Cpl.', 'W.', '(Walkley);', 'Donaldson', '22971', 'L.-Cpl.', 'W.', '(Felling-', 'on-Tyne);', 'Gooder', '38619', 'S.', '(Batley);', 'Tomlinson', '33234', 'G.', '(Don-', 'caster).', 'DURHAM', 'LIGHT', 'INFANTRY.—Dougal', '52994', 'J.', '(North', 'Shields).', 'HIGHLAND', 'LIGHT', 'INFANTRY.—Depons', '31342', 'L.', '(Alyth);', 'Forbes', '42375', 'J.', '(Portadown);', 'Gilmour', '4913', 'S.', '(Kilwinning);', 'McGuire', '42347', 'T.', '(Paisley);', 'Nelson', '34843', 'W.', '(Glasgow).', 'SEAFORTH', 'HIGHLANDERS.—Glidden', '21785', 'W.', 'A.', '(Bideford).', 'ROYAL', 'IRISH', 'FUSILIERS.—Carroll', '23230', 'G.', 'F.', '(Armagh).', 'ARGYLL', 'AND', 'SUTHERLAND', 'HIGHLANDERS.—Muir', '251505', 'L.-Cpl.', 'R.', 'S.', '(Paisley).', 'RIFLE', 'BRIGADE.—Simmonds', '9976', 'C.', 'T.', '(Winson', 'Green).', 'MACHINE', 'GUN', 'CORPS.—Greaves', '67198', 'G.', 'E.', '(Aughton);', 'Maguire', '16489', 'Cpl.', 'J.', '(Drogheda);', 'Moore', '67367', 'W.', '(Brierfield);', 'Parratt', '35911', 'L.', 'W.', '(Guilford).', 'LONDON', 'REGIMENT.—Comber', '654411', 'E.', 'C.', '(Tooting,', 'S.W.);', 'Dicks', '703598', 'Drmr.', 'F.', 'R.', 'J.', '(Islington,', 'N.);', 'Fenton', '512087', 'Cpl.', 'F.', 'M.', '(Thornton', 'Heath);', 'Goldsworth', '653519', 'A.', '(Lavender', 'Hill,', 'S.W.);', 'Leyman', '493241', 'F.', 'W.', '(Exeter);', 'Porter', '702131', 'A.', 'L.', '(Notting-', 'ham);', 'Wilson', '532157', 'H.', 'L.', '(Richmond).', 'ARMY', 'SERVICE', 'CORPE^—Kenctall', 'DM2/168476', 'J.', '(Warms-', 'wojrth);', 'Stock', 'CMT/32', 'Sjt.', 'J.', '(Battel,', 'ea,', 'S.W.).', 'Previously', 'reported', 'wounded,', '7iow*', 'reported', ',', 'DIED', 'OF', 'WpUNDS.', 'ESSEX', 'REGIf', 'ENT.—Blake', 'i868fc&gt;', 'W.', 'J.', '(Victoria', 'Docks,', 'E.).', 'WILTSHIRE', 'REGIMENT.—Phil/ps', '22960', 'A.', 'H.', '(Swindon).', 'DURHAM', 'LIGHT', 'INFANTRlT.—Clark', '39859', 'Sjt.', 'W.', 'J.', '(Reading).', 'I', 'ROYAL', 'IRISH', 'RIFLES.—Millai)', '7102', 'J.', '(Belfast);', 'Moore', '2144', 'Cpl.', 'J.', '.', '(Norwich).', 'MACHINE', 'GUN', 'CORPS.—L,aw', '26804', 'L.-Cpl.', 'W.', 'H.', '(Tod-', 'morden.).', 'PART', 'HI.', 'W.O.’s,', 'N.C.O.’s,', 'AND', 'MEN', '(Contd.).', 'Previously', 'reported', 'wounded', 'and', 'missing,', 'now', 'reported', 'DIED', 'OF', 'WOUNDS.', 'LOYAL', 'NORTH', 'LANCASHIRE', 'REGIMENT.—Barrett', '33804', 'J.', 'F.', '(Swindon);', 'Davies', '15143', 'Sjt.', 'J.', '(Hulme).', 'SHROPSHIRE', 'LIGHT', 'INFANTRY.—Rowley', '24742', 'W.', 'H.', '(Shifnal).', 'DIED.', 'YEOMANRY.—Leslie', '271010', 'J.', '(Newcastle).', 'ROYAL', 'GARRISON', 'ARTILLERY.—Hill', '64374', 'Sjt.', 'P.', '(Hud-', 'dersfield).', 'MIDDLESEX', 'R', 'EGIMENT,—Shaw', '33379', 'W.', 'M.', '(Malden', 'Road,', 'N.W.).', 'NORTH', 'STAFFORDSHIRE', 'REGIMENT.—McLaren', '241840', 'W.', '(Burton).', 'DURHAM', 'LIGHT', 'INFANTRY.—Grayson', '43060', 'J.', '(Derby).', 'ROYAL', 'IRISH', 'FUSILIERS.—Kipps', '15641', 'C.', '(Bury).', 'CONNAUGHT', 'RANGERS.—Fanning', '7957', 'J.', '(Longsight).', 'LABOUR', 'CORPS.—Brennan', '7829', 'Cpl.', 'W.', 'L.', '(Glasgow);', 'Harper', '47947', 'W.', 'P.', '(Stockport).', 'WOUNDED.', 'ROYAL', 'FLYING', 'CORPS.—Clementson', '55001', '3rd', 'Class', 'Air', 'Mech.', 'P.', '(Liverpool);', 'Newman', '56359', '2nd', 'Class', 'Air', 'Mech.', 'M.', 'G.', '(Peckham,', 'S.E.).', 'ROYAL', 'FLYING', 'CORPS,', 'ATTACHED', 'ROYAL', 'GARRISON', 'ARTILLERY.—Blackwell', '10585', '2nd', 'Class', 'Air', 'Mech.', 'R.', '(Glou-', 'cester).', 'ROYAL', 'FIELD', 'ARTILLERY.—Aston', '810348', 'Tmptr.', 'H.', '(West', 'Bromwich);', 'Bond', '93886', 'Gnr.', 'C.', '(Malmesbury);', 'Bough', '33026', 'Gnr.', 'C.', 'O.', '(Walsall);', 'Brinson', '3846', 'Gnr.', 'L.', 'P.', '(Wandsworth,', 'S.W.);', 'Bumstead', '26690', 'Sjt.', 'R.', 'A.', '(Lancaster);', 'Burrow', '675500', 'Gnr.', 'J.', '(Leeds);', 'Cartwright', '810754', 'Dvr.', 'J.', 'W.', '(Hopton);', 'Childs', '965665', 'Gnr.', 'W.', 'H.', '(Islington,', 'N.);', 'Cockburn', '32820', 'Cpl.', 'A.', 'W.', '(Sunder-', 'land);', 'Day', '123061', 'Gnr.', 'N.', '(Hitchin,', 'Enlt.);', 'Frearson', '134954', 'Gnr.', 'A.', 'W.', '(Coalville);', 'Fudge', '163959', 'Gnr.', 'L.', 'F.', '(Shillington);', 'Graham', '88369', 'Gnr.', 'H.', '(Boldon', 'Colliery);', 'Green', '22604', 'Dvr.', 'L.', 'C.', '(Ber-', 'mondsey,', 'S.E.);', 'Halligan', '69837', 'Act.', 'Bdr.', 'W.', '(Borough,', 'S.E.);', 'Ham-', 'mersley', '805115', 'Gnr.', 'F.', 'A.', '(Hanley);', 'Harrison', '116104', 'Gnr.', 'T.', '(Douglas);', 'Hobday', '810247', 'Sjt.', 'A.', '(West', 'Bromwich);', 'Hughes', '25026', 'Ftr.', 'Cpl.', 'G.', 'A.', '(Failsworth);', 'Humphries', '675045', 'Sjt.', 'W.', '(Edge', 'Hill);', 'Johnson', '780018', 'Sjt.', 'A.', 'E.', '(Bradford);', 'Knolt', '28653', 'Gnr.', 'A.', 'C', '(Chelsea,', 'S.W.);', 'Marsh', '50974', 'Bdr.', 'R.', 'J.', '(Leyton,', 'E.);', 'Millington', '128535', 'Gnr.', 'A.', '(Stourpbrt);', 'Newman', '2415', 'Dvr.', 'E.', '(Fordingbridge);', 'O’Flaherty', '696929', 'Gnr.', 'E.', '(Liverpool)', ';', 'Palmer', '82102', 'Dvr.', 'E.', '(Great', 'Yarmouth);', 'Palmer', '67553', 'Bdr.', 'J.', 'W.', '(New', 'T', '-', 'bury);', 'Plant', '805015', 'Ftr.', 'Q.M.-Sjt.', 'T.', '(Brierley', 'Hill);', 'Powell', '690454', 'Gnr.', 'J.', '(Birkenhead);', 'Roberts', '796389', 'Gnr.', 'S.', 'J.', '(Newport);', 'Saxby', '80402', 'Gnr.', 'B.', '(Eocles);', 'Sumner', '56079', 'Sjt.', 'J.', 'E.', '(Wigan);', 'Sweeney', '656204', 'Dvr.', 'D.', '(Glasgow);', 'Teaie', '150051', 'Gnr.', 'G.', '(Bath);', 'Tharratt', '70939', 'Gnr.', 'F.', 'W.', '(Dalston,', 'E.);', 'Thompson', '34455', 'Gnr.', 'F.', '(Dukiniield);', 'Vanner', '947572', 'Gnr.', 'A.', '(Brockley,', 'S.E.);', 'Waghorn', '201954', 'Gnr.', 'C.', '(Walworth', 'Road,', 'S.E.);', 'Williams', '54754', 'Gnr.', 'J.', '(Notting', 'Hill,', 'W.).', 'ROYAL', 'GARRISON', 'ARTILLERY.—Basford', '137489', 'Bdr.', 'J.', 'E.', '(New', 'Brighton);', 'Baskeyfield', '72943', 'Gnr.', 'W.', '(Hanley);', '*Beard', '117783', 'Gnr.', 'A.', '(Brough);', 'Brien', '24664', 'Act.', 'Bdr.', 'K.', '(Tullamore);', 'Cameron', '95775', 'Gnr.', 'D.', '(Alyth);', 'Connolly', '28860', 'Gnr.', 'M.', '(Clifden);', 'Cox', '91005', 'Gnr.', 'F.', 'R.', '(Bristol);', 'Eastwood', '128657', 'Gnr.', 'S.', '(Birk-', 'dale);', 'Fleming', '76345', 'Bdr.', 'S.', 'L.', '(Merton', 'Park,', 'S.W.);', 'Frisby', '95969', 'Gnr.', 'J.', '(Erdington);', 'Fyfe', '129775', 'Gnr.', 'A.', '(Forfar);', 'Gardiner', '95794', 'Gnr.', 'C.', 'D.', '(Brechin);', 'Henderson', '95719', 'Gnr.', 'W.', 'E.', '(Fouthill-', 'Gifford);', 'Hirons', '139016', 'Gnr.', 'E.', '(Warwick);', 'Lane', '58692', 'Gnr.', 'J.', 'Cork;', 'Low', '95811', 'Act.', 'Bdr.', 'J.', '(Montrose);', 'Merritt', '36674', 'Gnr.', 'A.', 'H.', '(Gravesend);', 'Murphy', '96506', 'Gnr.', 'J.', 'F.', '(East', 'Finchley,', 'N.);', 'Nairn', '95638', 'Gnr.', 'E.', '(Riccarton);', 'Neill', '84922', 'Gnr.', 'J.', 'E.', '(Manchester);', 'Padmore', '95736', 'Gnr.', 'E.', '(Hockley);', 'Patton', '60053', 'Gnr.', 'R.', '(Liverpool);', 'Podmore', '117528', 'Gnr.', 'F.', '(Haughton);', 'Ravenhill', '280230', 'Cpl.', 'F.', '(Southend);', 'Rochford', '95650', 'Gnr.', 'A.', '(Hamilton);', 'Shezall', '128276', 'Act.', 'Sjt.', 'T.', 'J.', '(St.', 'Austell);', 'Swaby', '127114', 'Gnr.', 'E.', 'H.', '(Doncaster);', 'Thomas', '128278', 'Cpl.', 'C.', '(Falmouth);', 'Thompson', '115824', 'Gnr.', 'P.', 'J.', '(Ipswich);', 'White', '64109', 'Gnr.', 'G.', '(Brighton);', 'Wilcock', '97456', 'Gnr.', 'J.', 'B.', '(Lowton).', 'ROYAL', 'ENGINEERS.—Anderton', '179349', 'Spr.', 'W.', '(Rusholme);', 'Bard', '59562', 'Spr.', 'J.', '(Walthamstow,', 'E.);', 'Bamber', '183934', 'Spr.', 'J.', '(Chors', 'ley);', 'Bardwell', '178267', 'Pnr.', 'B.', 'G.', '(Norwich);', 'Barton', '11950', 'Spr.', 'J.', 'E.', '(Douglas);', 'Bright', '37534', 'Spr.', 'F.', 'W.', '(Stoke-in-Teignhead);', 'Brown', '104307', 'Act.', '2nd', 'Cpl.', 'C.', '(Stockton-on-Tees);', 'Chadwick', '134812', 'Spr.', 'A.', 'G.', '(Aston);', 'Chambers', '25234', 'Spr.', 'H.', '(Paddington,', 'W.);', 'East-', 'wood', '152495', 'Spr.', 'W.', '(Rastrick);', 'Elliott', '209335', 'Dvr.', 'D.', '(Basing-', 'stoke);', 'Griffiths', '47160', 'Spr.', 'J.', '(Letterston);', 'Harper', '220339', 'Pnr.', 'J.', '(Brixton,', 'S.W.);', 'Hepburn', '71484', 'Spr.', 'H.', '(Dunning);', 'Hewitt', '551134', 'Spr.', 'B.', 'W.', 'R.', '(Gainsborough;', 'Holmes', '3902', 'Spr.', 'F.', '(Belfast);', 'Littley', '62466', 'Spr.', 'M.', 'H.', 'E.', '(St.', 'Nicholas);', 'Lockyer', '7364', 'Spr.', 'C.', '(Castle', 'Cary);', 'McConaughey', '164317', 'Spr.', 'J.', '(Belfast);', 'McGregor', '167285', 'Pnr.', 'P.', '(Edinburgh);', 'Manvill', '188446', 'Spr.', 'E.', '(Steyning);', 'Oakes', '17605', 'Spr.', 'P.', 'H.', '(Crewe);', 'Redman', '32893', 'Spr.', 'S.', 'W.', 'J.', '(Wil-', 'lesden,', 'N.W.)', ';', 'Riddle', '34611', 'Spr.', 'J.', '(Harwich);', 'Savage', '490434', 'Cpl.', 'J.', '(Smethwick);', 'Sutton', '97131', 'Spr.', 'T.', '(Wisbech);', 'Tasker', '195967', 'Pnr.', 'G.', '(Port', 'Sunlight);', 'Turner', '61639', 'Spr.', 'T.', '(South', 'Ealing,', 'W.);', 'Young', '254815', 'Pnr.', 'H.', 'E.', '(Loughborough).', 'GRENADIER', 'GUARDS.—Spellings', '25776', 'C.', '(Derby).', 'SCOTS', 'GUARDS.—Tagart', '6957', 'T.', '(Maryhill).', 'IRISH', 'GUARDS.—Aylward', '7856', 'W.', '(Wicklow);', 'Burke', '10242', 'J.', '(Kilkenny);', 'Byrne', '10371', 'L.-Cpl.', 'P.', '(Clifden)', '*', 'Cawley', '3659', 'J.', '(Nenagh);', 'Connolly', '10815', 'P.', '(Edinburgh);', 'Daly', '4701', 'J.', '(Castlerea);', 'Donovan', '10874', 'L.-Cpl.', 'P.', '(Cork);', 'Dugan', '11291', 'J.', '(North', 'Berwick);', 'Gamble', '675', 'Sjt.-Maj.', 'R.', '(Marylebone,', 'N.W.).;', 'Geelan', '8586', 'B.', '(Longford);', 'Hurley', '8052', 'C.', '(Cardiff);', 'Kelly', '8881', 'Sjt.', '\\\\V.', '(Carlow);', 'McCann', '9185', 'M.', '(Killucan);', 'Maloney', '3312', 'P.', '(Brixton,', 'S.W.);', 'O’Donnell', '8976', 'T.', '(Ballina);', 'Robinson', '3448', 'J.', 'W.', '(Banbridge);', 'Stewart', '11222', 'F.', '(Coatbridge);', 'Tuffy', '10180', 'P.', '(Castlebar);', 'Walsh', '5592', 'L.-Sjt.', 'J.', '(Clonmel);', 'Whelan', '3783', 'Co.', 'Sjt.-Mjr.', 'M.', '(Waterford);', 'Wright', '9580', 'H.', '(Middlesbrough).', 'WELSH', 'GUARDS.—Cohen', '2968', 'J.', '(Cardiff);', 'Ford', '752', 'L.-Cpl.', 'T.', '(Ystrad,', 'Rhondda);', 'Ireland', '2714', 'J.', '(Cardiff);', 'Lewis', '1584', 'E.', 'W.', '(Aberdare);', 'Owen', '2726', 'J.', 'G.', '(Letterston);', 'Roberts', '3254', 'R.', 'W.', '(Dyserth);', 'Sparks', '2832', 'T.', '(St.', 'Helens);', 'Townsend', '2969', 'J.', '(Thor-', 'naby);', 'Vaughan', '654', 'T.', '(Treherbert).', 'MACHINE', 'GUN', 'GUARDS.—Bennett', '451', 'L.-Cpl.', 'C.', '(Sandhurst);', 'Birch', '28', 'Sjt.', 'W.', '(Edinburgh);', 'Maxwell', '910', 'R.', '(Cowdenbeath);', 'McDairmid', '898', 'D.', '(St.', 'Ninians).', 'ROYAL', 'SCOTS.—Carroll', '38887', 'W.', '(Glasgow).', 'THE', 'BUFFS', '(EAST', 'KENT', 'REGIMENT).—Bridger', '20194', 'L.-Cpl.', 'R.', '(Ealing,', 'W.);', 'Clover', '203256', 'G.', '(Deal);', 'Edwards', '2337', 'W.', 'G.', '(Charlton,', 'S.E.);', 'Morrow', '2169', 'F.', '(Moss', 'Side).', 'KING’S', 'OWN', '(ROYAL', 'LANCASTER', 'REGIMENT).—Hampson', '20992', 'A.', '(Farnworth);', 'Hampson', '27587', 'H.', '(Birmingham);', 'Murdock', '32581', 'Cpl.', 'E.', '(Salford).', 'NORTHUMBERLAND', 'FUSILIERS.—Berridge', '1489', 'W.', 'T.', '(Hull);', 'Billingham', '5276', 'H.', '(Ebbw', 'Vale);', 'Booth', '194', 'L.-Sjt.', 'W.', '(Ripon);', 'Calvert', '409', 'S.', 'H.', '(Hull);', 'Carter', '200', 'A.', '(Bilton)', ';', 'Dodd', '909', 'J.', 'J.', '(Brampton)', ';', 'Hoyle', '18762', 'C.', '(Rotherham);', 'Lamb', '36382', 'J.', 'T.', '(Northowram);', 'Lowes', '200707', 'J.', '(Simonburn);', 'Rennox', '46877', 'L.-Cpl.', 'C.', '(Dykehead);', 'Robson', '423', 'T.', 'F.', '(Coleridge-on-Tyne);', 'Townsend', '36251', 'E.', '(Yeadon);', 'Varfey', '202133', 'C.', '(Norwich);', 'Welsh', '386', 'Sjt.', 'H.', '(North', 'Shields).', 'ROYAL', 'WARWICKSHIRE', 'REGIMENT.—Taylor', '2071', 'J.', '(Old-', 'bury).', 'ROYAL', 'FUSILIERS.—Everett', '61598', 'F.', '(North', 'Finchley,', 'N.);', 'Evetts', '11627', 'G.', '(Newcastle);', 'Fisher', '55405', 'W.', '(Staveley);', 'Flatman', '66121', 'G.', 'W.', \"(King's\", 'Lynn);', 'Ford', '65217', 'M.', '(Manchester);', 'Gordon', '228276', 'H.', '(Northampton);', 'Halliday', '44049', 'H.', '(Sutton', 'Heston);', 'Morton', '41611', 'A.', '(Northampton);', 'Skinner', '5658', 'Sjt.', 'F.', '(Hampton', 'Hill)', 'KING’S', '(LIVERPOOL', 'REGIMENT).—Ashall', '267481', 'R.', 'B.', '(Southport);', 'Bell', '357717', 'J.', '(Liverpool);', 'Cochrane', '241809', 'L.-Cpl.', 'J.', '(Liverpool);', 'Edwards', '241626', 'C.', 'L.', '(Liverpool);', 'Evans', '242660', 'W.', '(Liverpool);', 'Farragher', '267569', 'E.', 'T.', '(Marown);', 'Gregson', '242624', 'H.', '(Southport);', 'Hayward', '51982', 'C.', 'W.', '(Crosby);', 'Ikin', '241777', 'H.', '(Whit-', 'church);', 'Jepson', '269446', 'P.', '(Cheetham', 'Hill);', 'Jolly', '357689', 'W.', 'J.', '(St.', 'Helens);', 'Jones', '16048', 'R.', 'W.', 'P.', '(Abergele);', 'Rome', '308155', 'J.', 'T.', '(Laxey);', 'Ryan', '357255', 'J.', '(Liverpool);', 'Speakman', '266106', 'Cpl.', 'F.', '(Southport);', 'Thornber', '56509', 'A.', 'E.', '(Nelson);', 'Tickle', '204239', 'J.', 'W.', '(Wigan).', 'NORFOLK', 'REGIMENT.—Drayton', '29820', 'J.', 'C.', '(Boston);', 'Hob-', 'dell', '25960', 'S.', 'J.', '(Tottenham,', 'N.);', 'Hope', '29894', 'A.', 'D.', '(Tonbridge);', 'Lamb', '9439', 'C.', '(Great', 'Yarmouth).', 'LINCOLNSHIRE', 'REGIMENT.—Gaulton', '17043', 'J.', '(Stoke);', 'Keeton', '10731', 'Cpl.', 'S.', '(Grimsby^-Enlt.).', '44043', 'W.', '(Bury', 'St.', 'PART', 'HI.', 'W.O.’s,', 'N.C.O.’s,', 'AND', 'MEN', '(Contd.).', 'WOUNDED', '(Contd.I', 'DEVONSHIRE', 'REGIMENT.—Costello', '99,7', 'L.-Cpl.', 'P.', '(Bishop', 'Auckland);', 'Dnffey', '12947', 'A.', '(Pontygwaitli);', 'Euicher', '-&gt;04871', 'II', 'E', '(Forest', 'Gate,', 'I', ');', 'Hale', '12523', 'Sjt.', 'G.', '(Acton,', 'W);', 'Maunder', '30830', 'J.', 'I.', '(Plymouth);', 'Spear', '9041', 'W.', 'H.', '(Lapford):', 'Taylor', '23331', 'T.', '(Pewsey);', 'Winsor', '43203', 'F.', 'J.', '(Brixham).', 'SUFFOLK', 'REGIMENT.—Stebbing', 'Edmund’s).', 'SOMERSET', 'LIGHT', 'INFANTRY.', '—Bushnell', '27873', 'L.', '(Hermit-', 'age)', ';', 'Lawrence', '2(803', 'F.', '(Somerton)', ';', 'Stunell', '30237', 'R.', 'G.', '(Peckham,', 'S.E.);', 'Wakeman', '27860', 'H.', '(Hammersmith', 'W.);', 'Wall', 'GG96', 'L.Cpl', 'A', '(Bridgwater).', 'WEST', 'YORKSHIRE', 'REGIMENT.—Blott', '42478', 'H.', '(Bradford);', 'Cawthra', '195', 'M.', '(Bradford);', 'Cowell', '26G340', 'R.', '(Leeds);', 'Crabtree', '2033*1', 'D.', '(Bradford);', 'Frewster', '242874', 'E.', '(West', 'Hartlepool);', 'Llen-', 'derson', '242879', 'N.', '(Newcastle);', 'Hudson', '268704', 'A.', '(Leeds);', 'Ingleton', '1426', 'W.', '(Bradford);', 'Jennings', '20014', 'W.', '(London,', 'W.);', 'Johnson', '18361', 'A.', '(Leeds);', 'Mason', '58', 'G.', '(Pudsey);', 'Mills', '753', 'H.', '(Whitby);', 'Milner', '855', 'A.', '(Bradford);', 'Molloy', '240093', 'L.-Cpl.', 'J.', '(Bradford)', ';', 'New-', 'ton', '240872', 'J.', '(Bradford);', 'O’Connor', '266434', 'J-', '(Heeds);', 'Parker', '37471', 'A.', '(Leeds);', 'Payne', '1054', 'F.', 'L.', '(Leeds);', 'Senior', '1473', 'L.-Cpl.', 'H.', 'V.', '(Leeds);', 'Teale', '34176', 'J.', 'A.', '(Leeds);', 'Westmoreland', '266003', 'G.', '(Leeds).', 'EAST', 'YORKSHIRE', 'REGIMENT.—Calpln', '8S65', 'A.', '(York);', 'Cole-', 'man', '17933', 'w.', 'C.', '(London);', 'Fell', '32964', 'G.', '(Hull);', 'Hogwood', '12294', 'L.', '(Addingham);', 'Topham', '10^96', 'J.', '(Hull).', 'BEDFORDSHIRE', 'REGIMENT.', '—', 'Beaumont', '8602', 'R.', '(Kemps-', 'ford);', 'Sale', '23656', 'L.-Cpl.', 'A.', 'W.', '(Biggleswade);', 'Silverstone', '28489', 'M.', '(Hackney,', 'E.);', 'Slater', '22102', 'S.', '(Ware).', 'YORKSHIRE', 'REGIMENT.—Hastings', '13756', 'D.', '(South', 'Bank);', 'Hopton', '23070', 'C.', 'H.', '(Burley);', 'Prescott', '29458', 'J.', 'T.', '(Nottingham);', 'Talbot', '28268', 'L.-Cpl.', 'W.', '(Melsonby);', 'Thompson', '16187', 'W.', 'G.', '(Ryhope);', 'Wall', '38072', 'J.', 'H.', '(Halifax);', 'Walton', '23381', 'H.', '(Islington,', 'N.);', 'Wheatley', '27184', 'G.', '(Eston);', 'Winstanley', '13672', 'J.', '(Thomley).', 'LANCASHIRE', 'FUSILIERS.—Bickerstaffe', '241795', 'H.', '(Oldham);', 'Brierley', '28594', 'E.', '(Milnrow);', 'Daly', '305935', 'J', '(Pendleton);', 'Hulse', '^3496', 'F.', '(Leigh);', 'Johnson', '240519', 'T.', '.(Rochdale);', 'McDonald', '305219', 'M.', '(Salford);', 'O’Brien', '28956', 'E.', '(Rochdale);', 'Wbitelock', '37216', 'L.', 'H.', '(Croydon).', 'ROYAL', 'SCOTS', 'FUSILIERS.—Gunn', '30230', 'E.', '(Birmingham).', 'ROYAL', 'SCOTS', 'FUSILIERS,', 'ATTACHED', 'ROYAL', 'EN-', 'GINEERS.—Reddington', '12873', 'J.', '(Howwood).', 'RO\\\\AL', 'WELSH', 'FUSILIERS.—Davies', '54784', 'I.', '(Brynmawr).', 'SOUTH', 'WALES', 'BORDERERS.—Allen', '22934', 'W.', 'H.', '(City', 'Road', 'E.C.);', 'Brooke', '17361', 'Co.', 'Sjt.-Maj.', 'H.', '(Blaina);', 'Collins', '35192', 'L.', '(Newport);', 'Foster', '39197', 'J.', '(Bury);', 'Fry', '40094', 'A.', '(Hay);', 'Neale', '17208', 'J.', '(Newport);', 'Purdy', '40233', 'J.', 'R.', '(Blackpool);', 'Rimmer', '39252', 'S.', '(Formby);', 'Sageman', '39726', 'J.', 'W.', '(Peckham,', 'S.E.);', 'Smith', '29061', 'J.', '(Aberdare);', 'Storey', '4.,922', 'J.', '(Gateshead);', 'Walters', '25870', 'G.', '(Dowlais);', 'Gould', '39244', 'W.', '(Warrington).', 'KING’S', 'OWN', 'SCOTTISH', 'BORDERERS.—Brindle', '179x1', 'E.', '(Preston);', 'Gumming', '12346', 'j.', '(Manchester);', 'Dennison', '11659', 'W.', '(Lancaster);', 'Fisken', '7042', 'J.', '(Edinburgh);', 'Ford', '23654', 'L.-Cpl.', 'W.', '(Dundee);', 'Goulbourne', '14163', 'T.', '(Manchester);', 'Grain', '18291', 'L.', '(Barnsley);', 'Hislop', '28595', 'H.', '(Selkirk);', 'McMcnemy', '6387', 'W.', '(Glas-', 'gow);', 'McNicol', '20927', 'R.', '(Glasgow);', 'McSorley', '27824', 'E.', '(Glasgow);', 'Matthews', '12521', 'J.', '(MancHester);', 'Michie', '27228', 'A.', '(Edinburgh);', 'Nicholson', '40175', 'T.', '(Dummies);', 'Ormiston', '29363', 'A.', '(Galashiels);', 'Robertson', '201949', 'M.', '(Gligow);', 'Sim', '26695', 'G.', '(Leslie,', 'Fife);', 'Straiton', '2S832', 'T.', '(Gatehoule', 'of', 'Fleet);', 'Thomson', '23040', 'T.', '(Conon-', 'bie);', 'Urquhart', '16507', 'Sjt.', 'I.', '(Lockerbie);', 'Walker', '29372', 'J.', '(Dal-', 'beattie).', 'CAMERONIANS', '(SCOTTISH', \"RIP'LES).—Armstrong\", '41594', 'W.', '(Glasgow);', 'Allison', '24781', 'A.', '(Glasgow);', 'Brannan', '30124', 'D.', '(May-', 'bole);', 'Brown', '33170', 'W.', '(Strathaver.);', 'Clark', '240230', 'J.', '(Hamilton);', 'Doig', '41498', 'D.', '(Motherwell);', 'Fairfoul', '15152', 'T.', '(Busby);', 'Fowler', '2', '3S', 'I2', '5', 'A.', '(Glasgow);', 'Gallacher', '13412', 't-', '(Glasgow);', 'Gallacher', '23661', 'J.', '(Glasgow);', 'Greer', '23668', 'S.', '(Glasgow);', 'Henderson', '28551', 'W', '(Glasgow);', 'Hendry', '31765', 'C.', '(Glasgow);', 'Hickie', '40231', 'T.', '(Arma-', 'dale);', 'Holmes', '40259', 'H.', '(Dewsbury);', 'Hunter', '16094', 'J-', '(Smethwick);', 'Hutchinson', '14088', 'H.', '(Burnley);', 'Irving', '235127', 'H.', '(Lockebie);', 'Johnstone', '18209', 'J.', '(BTantyre);', 'Keightiey', '40000', '\\'\"D.\\'', '(Sheffield);', 'Kelly', '24926', 'J.', '(Glasgow);', 'Kershaw', '16566', 'J.', '(Burnley);', 'Leigh', '30140', 'N.', '(Stevenston);', 'McAtasney', '436i6', 'l', 'E.', '(Port', 'Stanley,', 'Glasgow);', 'McGrechan', '28158', 'H.', '(Rutherglen);', 'McGonigle', '28482', 'W.', '(Glasgow);', 'McHendry', '28746', 'T.', '(Glasgow);', 'McIntyre', '43604', 'D.', '(Glasgow);', 'McKay', '40215', 'A.', '(Leith);', 'McLellan', '240121', 'C.', '(Airdrie);', 'McLelland', '40619', 'D.', '(Motherwell);', 'McMahon', '200760', 'J.', '(Luton);', 'McPherson', '28740', 'R.', '(Kilpatrick);', 'McQuiston', '10776', 'T.', '(Glasgow);', 'McWhirter', '28470', 'A.', '(Glasgow);', 'Mailey', '24934', 'I--Cpl.', 'J.', '(Glasgow);', 'Martin', '433', '11', 'J-', '(Glasgow);', 'Miller', '43009', 'D.', '(Blairgowrie);', 'Murphy', '20946', 'H.', '(Glasgow);', 'Parker', '17405', 'J.', '(Mansfield);', 'Pattison', '240428', 'R.', '(Hamilton);', 'Rankin', '16033', 'Cpl.', 'H.', '(Bridgeton);', 'Rowston', '40107', 'Cpl.', 'J.', '(Glasgow);', 'Sharp', '16657', 'T.', '(Glasgow);', 'Stewart', '41598', 'F.', '(Jedburgh);', 'Stirling', '22324', 'J', '(Paisley);', 'Storey', '14124', 'F.', \"(Ski'pton);\", 'Tapley', '22475', 'C.', '(London,', 'E.C.);', 'Thomson', '29158', 'J.', '(Newton', 'Stewart);', 'Wardman', '17342', 'H.', '(Sandiacre);', 'Webster', '40095', 'I.', '(Glas-', 'gow);', 'Whalley', '20852', 'A.', '(Accrington);', 'Wray', '16091', 'E.', '(Manchester).', 'ROYAL', 'INNISKILLING', 'FUSILIERS.—Clarke', '23411', 'J.', '(Bel-', 'leck);', 'Christie', '22554', 'W.', '(Coatbridge);', 'Galbraith', '27240', 'L.-Cpl.', 'G.', '(Abbeyleix);', 'Harvey', '29268', 'J.', '(Derry)', ';', 'Logan', '40650', 'J.', '(Wbiteabbey);', 'McKee', '40652', 'J.', '(Kilkeel);', 'Milligan', '19164', 'J.', '(Magherafelt);', 'Parker', '14122', 'G.', 'A.', '(Enniskillen);', 'Taylor', '28265', 'H.', '(Bellaghy);', 'Watson', '18750', 'L.-Cpl.', 'G.', 'C.', '(Usworth', 'Colliery).', 'GLOUCESTERSHIRE', 'REGIMENT.—Bell', '21981', 'C.', 'W.', '(Birming-', 'ham);', 'Bird', '32102', 'J.', '(Brampton-Brian);', 'Cummings', '27387', 'C.', 'E.', '(Oxford);', 'Dollin', '203763', 'A.', '(Bristol);', 'Gay', '179', 'H.', 'F.', '(Lydney);', 'Gould', '37715', 'T.', '(Bristol);', 'Haden', '38063', 'H.', '(Birmingham);', 'Lawley', '36832', 'E.', '(Hereford);', 'Parry', '19954', 'F.', '(Coleford);', 'Penberthy', '30192', 'W.', '(Plymouth)', ';', 'Rayer', '8195', 'W.', '(Brentwood);', 'Styler', '27679', 'G.', 'F.', '(Redditch);', 'Sutton', '18419', 'Sjt.', 'H.', 'T.', '(Simbury);', 'Todds', '27665', 'B.', '(Bedworth);', 'Wakebam', '21822', 'S', 'it.', 'F.', 'J.', '(Devonport);', 'Wheatley', '24970', 'G.', '(Droitwich);', 'Young', '30810', 'T.', 'G.', '(Bristol).', 'GLOUCESTERSHIRE', 'REGIMENT,', 'ATTACHED', 'MAN-', 'CHESTER', 'REGIMENT.—Legg', '200492', 'E.', '(Bristol):', 'WORCESTERSHIRE', 'REGIMENT.—Cooper', '31233', 'W.', '(Birming-', 'ham).', 'EAST', 'LANCASHIRE', 'REGIMENT—Chadwick', '241635', 'W.', '(Accrington);', 'Heap', '12486', 'J.', '(Baxenden);', 'Hudson', '240795', 'A.', '(Hap-', 'ton);', 'McDonald', '36402', 'L.', '(Padiham).', 'EAST', 'SURREY', 'REGIMENT.', '1', '—Hope', '24923', 'F.', '(Peckham,', 'S.E.).', 'DUKE', 'OF', 'CORNWALL’S', 'LIGHT', 'INFANTRY.—Stephens', '26777', 'E.', 'W.', '(St.', 'Breock);', 'Webber', '21014', 'R.', '(Camborne).', 'DUKE', 'OF', 'WELLINGTON’S', 'REGIMENT.—Best', '29308', 'S.', '(Huddersfield);', 'Booth', '19517', 'F..', '(Huddersfield);', 'Bray', '29345', '(Huddersfield);', 'Brook', '\\'14040\"\\'', 'L.-Cpl', 'J.', 'W.', '(Halifax);', 'Carthew', '9832', 'Cpl.', 'E.', '(Sheffield);', 'Day', '15212', 'G.', 'H.', '(Huddersfield);', 'Gibson', '20622', 'A.', '(Leeds);', 'Haigh', '204606', 'A.', '(Huddersfield);', 'Haigh', '17903', 'L.-Cpl', 'H.', '(Thongsbridge);', 'Hodgson', \"265396'’\", 'H.', '(Keighley);', 'Marsden', '18734', 'R.', '(Settle)', ';', 'Naylor', '203130', 'J.', 'H.', '(Cleckheaton);', 'Schofield', '20404', 'F.', '(Halifax);', 'Sterriker', '24948', 'G.', '(Windhill);', 'Stott', '12856', 'L.-Cpl.', 'H.', '(Ilkley);', 'Williams', '13878', 'Sjt.', 'P.', 'H.', '(Sydenham).', 'BORDER', 'REGIMENT.—Miller', '17596', 'Act.', 'Cpl.', 'J.', '(Carlisle).', 'ROYAL', 'SUSSEX', 'REGIMENT.—Beith', '14068', 'J.', '(Shoreditch,', 'E.);', 'Catt', '6453', 'C.', '(Hailsham);', 'Dale', '18035', 'T.', '(Horsham);', 'Gausden', '8247', 'L.-Cpl.', 'A.', '(Eastbourne);', 'Holmes', '11127', 'H.', '(St.', 'Mary', 'Cray);', 'Peer-', 'less', '13150', 'S.', '(Tonbridge);', 'Pinckney', '14821', 'J.', '(Homerton,', 'E.);', 'Sim-', 'monds', '5817', 'F.', '(Brighton);', 'Walker', '14151', 'W.', '(Nuthurst);', 'Wrist', 'moo', 'E.', '(South', 'Lambeth,', 'S.E.).', 'DORSETSHIRE', 'REGIMENT.^—Frecker', '13165', 'V.', '(Hoxton,', 'N.);', 'Maher', '11023', 'W.', 'W.', '(Sherborne).', 'SOUTH', 'LANCASHIRE', 'REGIMENT.—', 'Holyoake', '31167', 'E.', '(Leicester);', 'Llewelly', '21320', 'Act.', 'Cpl.', 'W.', 'J.', '(St.', 'Helens);', 'Molyneux', '20150', 'A.', '(St.', 'Helens);', 'Myers', '20763', 'Cpl.', 'J.', '(St.', 'Helens);', 'Richards', '34078', 'E.', 'D.', '(Port', 'Talbot);', 'Taylor', '20813', 'Sjt.', 'J.', '(St.', 'Helens).', 'WELSH', 'REGIMENT.—Bevan', '28884', 'W.', '(Treherbert);', 'Burgess', '39174', 'S.', 'W.', '(Hornchurch)', ';', 'Groves', '46485', 'J.', 'G.', '(Cwmtillery);', 'Han-', 'cock', '10623', 'A.', '(Old', 'Tredegar)', ';', 'Howells', '266164', 'H.', '(Pendawdd);', 'Jones', '24431', 'R.', '(Pontypridd);', 'Lewis', '24089', 'H.', '(Whitchurch);', 'Morgan', '5O', 'i', '85', 'W.', 'E.', '(Tenbury);', 'Neal', '46009', 'W.', '(Chepstow’);', 'Stroyan', '45324', 'W.', '(Cardiff).', 'THE', 'BLACK', 'WATCH.—Baird', '265003', 'Co.-Sjt.-Maj.', 'R.', '(Perth);', 'Rattle', '43359', 'J-', '(Hawick);', 'Bissett', '266274', 'J.', '(Doune);', 'Clark', '266758', 'W.', '(Perth);', 'Cooney', '202704', 'J.', '(Dundee);', 'Coutts', '267985', 'A.', '(Finzean);', 'Crowther', '201544', 'H.', 'N.', '(Burley);', 'Cunliffe', '15937', 'J.', '(Ancoats);', 'Farmer', '40193', 'Cpl.', 'F.', '(Cardenden);', 'Finegan', '265744', 'L.-Cpl.', 'W.', 'H.', '(Dublin);', 'Gillanders', '268018', 'J.', '(Inscb);', 'Hall', '266330', 'J.', 'W.', '(Barns-', 'ley);', 'Johnstone', '291456', 'A.', '(Cameron', 'Bridge)', ';Keay', '268046', 'C.', '(Perth);', 'Keenan', '9002', 'L.-Cpl.', 'F.', '(Lochgelly);', 'Lemon', '268137', 'L.Cpl.', 'C.', '(Dundee);', 'McGowan', '43275', 'J.', '(Perth);', 'McEwen', '265894', 'W.', 'Me', 'D.']\n"
     ]
    }
   ],
   "source": [
    "l_corrent_file = read_file('194138830.34.xml')\n",
    "print(l_corrent_file)"
   ]
  },
  {
   "cell_type": "markdown",
   "metadata": {},
   "source": [
    "funcion to detect where is the relevant part, the death count part (and not the wounded)"
   ]
  },
  {
   "cell_type": "code",
   "execution_count": 66,
   "metadata": {},
   "outputs": [
    {
     "data": {
      "text/plain": [
       "[(30, 907), (913, 968), (975, 1055)]"
      ]
     },
     "execution_count": 66,
     "metadata": {},
     "output_type": "execute_result"
    }
   ],
   "source": [
    "def get_index(l_corrent_file):\n",
    "    \"\"\"\n",
    "    Find where the relevant part starts and where it ends, while the maximum option is the length of l_corrent_file.\n",
    "    \n",
    "    Parameters:\n",
    "    l_corrent_file (list): The list with the content we search for key words.\n",
    "    \n",
    "    Returns:\n",
    "    list of tuples: Each tuple contains the start and end indices of the relevant content.\n",
    "    \"\"\"\n",
    "    # Key words indicating the relevant part (e.g., death counts).\n",
    "    relevant = {'DIED', 'KILLED', 'DIED.', 'KILLED.', 'DROWNED', 'DROWNED.'}\n",
    "    # Key words indicating the start of a new section, hence the end of the relevant part.\n",
    "    n_relevant = {'WOUNDED', 'Previously', 'MISSING', 'GERMAN', 'WOUNDED.', 'MISSING.', 'GERMAN.', 'PRISONERS', 'OFFICERS.', 'OFFICERS'}\n",
    "    \n",
    "    starting_point = []\n",
    "    ending_point = []\n",
    "\n",
    "    # Collecting starting points of relevant parts\n",
    "    for i in range(len(l_corrent_file)):\n",
    "        if l_corrent_file[i] in relevant:\n",
    "            starting_point.append(i)\n",
    "\n",
    "    # Collecting ending points of relevant parts\n",
    "        elif l_corrent_file[i] in n_relevant:\n",
    "            ending_point.append(i)\n",
    "\n",
    "    # If no relevant word is found, the text is not relevant\n",
    "    if not starting_point:\n",
    "        return []\n",
    "    # If no n_relevant word is found, return the text from the first relevant word to the end\n",
    "    elif not ending_point:\n",
    "        return [(starting_point[0], len(l_corrent_file))]\n",
    "\n",
    "    # Otherwise, create tuples of start and end points\n",
    "    L = []\n",
    "    x = 0\n",
    "    for i in starting_point:\n",
    "        if i < x:\n",
    "            continue\n",
    "        else:\n",
    "            for j in ending_point:\n",
    "                if i > j:\n",
    "                    continue\n",
    "                else:\n",
    "                    L.append((i, j))\n",
    "                    x = j\n",
    "                    break\n",
    "    return L\n",
    "\n",
    "\n",
    "\n",
    "get_index(l_corrent_file)\n",
    "\n"
   ]
  },
  {
   "cell_type": "code",
   "execution_count": 64,
   "metadata": {},
   "outputs": [
    {
     "name": "stdout",
     "output_type": "stream",
     "text": [
      "['KILLED.', 'MANCHESTER', 'REGIMENT,', 'ATTACHED', 'LOYAL', 'NORTH', 'LANCASHIRE', 'REGIMENT.—Chafer', '15715', 'D.', '(Manchester).', 'SEAFORTH', 'HIGHLANDERS.—Brine', '12647', 'L.-Cpl.', 'H.', '(St.', 'Mary,', 'Dorset);', 'Campbell', '12609', 'D.', '(Wick);', 'Leigh', '10725', 'F.', '(Hulme);', 'MacAulay', '2965', 'D.', '(Wick);', 'McDonald', '10973', 'D.', '(Leith);', 'McNiven', '12530', 'J.', '(Longfoxgan);', 'Thomson', '9243', 'J.', '(Ayr).', 'CAMERON', 'HIGHLANDERS.—McGregor', '13876', 'Sjt.', 'J.', 'A.', '(Oban);', 'McKnight', '21868', 'J.', '(Glasgow);', 'Oliver', '40982', 'J.', '(Inverness);', 'Young', '13915', 'L.-Cpl.', 'A.', '(Hamilton).', 'ROYAL', 'IRISH', 'FUSILIERS.—Donaghy', '23452', 'E.', '(Belfast).', 'ROYAL', 'DUBLIN', 'FUSILIERS.—Riardan', '25369', 'Act.', 'L.-Cpl.', 'J.', '(Glasgow).', 'RIFLE', 'BRIGADE.—Newman', '2316', 'Sjt.', 'A.', 'C.', '(Ropley).', 'MACHINE', 'GUN', 'CORPS.—Harrow', '60900', 'J.', '(Edinburgh);', 'Rutherford', '76686', 'Gnr.', 'T.', '(St.', 'Ninians).', 'LONDON', 'REGIMENT.—Ankers', '372125', 'R.', '(Malpas);', 'Bell', '372823', 'J.', '(Blythe);', 'Binks', '652040', 'A.', 'A.', '(Bow,', 'E.);', 'Bowdery', '653210', 'S.', 'C.', '(Mitcham);', 'Chandler', '532680', 'A.', 'E.', '(Stepney,', 'E.);', 'Clarke', '652503', 'A.', '(Windsor);', 'Cole', '373364', 'A.', 'W.', 'N.', '(tas-t', 'Sheen,', 'S.W.);', 'Connolly', '653283', 'S.', 'A.', '(Clapham,', 'S.W.);', 'Cox', '370198', 'H.', 'G.', '(East', 'Ham,', 'E.);', 'Davies', '371781', 'G.', 'L.', '(Manchester);', 'Downing', '652602', 'N.', '(Falmouth);', 'Eden', '372300', 'R.', '(Barnet);', 'Eggleton', '653359', 'E.', '(Bermondsey,', 'S.E.);', 'Freeston', '532067', 'C.', 'B.', '(Peckham,', 'S.E.);', 'Gilbert', '372299', 'L.-Cpl.', 'W.', 'G.', '(Peckham,', 'S.E.);Hardy', '371369', 'G.', 'C.', '(Leicester);', 'Hinton', '372904', 'E.', '(London,', 'S.E.);', 'Ho.ll', '653246', 'E.', '(Clapham,', 'S.W.);', 'Hollingsworth', '681947', 'S.', 'H.', '(Woolwich,', 'S.E.);', 'Howell', '234140', 'A.', 'J.', '(Gospel', 'Oak,', 'N.W.);', 'Izzard', '653303', 'W.', 'J.', '(Basingstoke);', 'Jacobs', '653192', 'H.', '(Peck-', 'ham,', 'S.E.);', 'Janaway', '653305', 'F.', 'S.', '(Mitcham);', 'Jenner', '652615', 'A.', 'J.', '(Hoxton,', 'N.);', 'Jennings', '301981', 'E.', 'F.', '(Staines);', 'Jepps', '370723', 'W.', '(Tottenham,', 'N.);', 'Johnson', '372902', 'A.', 'E.', '(Harringay,', 'N.);', 'Jolly', '532625', 'H.', 'F.', '(Streatham,', 'S.W.);', 'Kirby', '372890', 'J.', 'R.', '(Middles-', 'brough);', 'Lock', '652368', 'F.', 'C.', '(Camberwell,', 'S.E.)J', 'Martin', '372946', 'H.', '(Scarborough);', 'Morgan', '683132', 'R.', 'A.', '(Stoke', 'Poges);', 'Parker', '651089', 'C.', '(Nunhead,', 'S.E.);', 'Parton', '683136', 'G.', '(Newbury);', 'Perry', '683139', 'S.', 'W.', '(Penge,', 'S.E.);', 'Pyke', '653366', 'A.', 'G.', '(Newbury);', 'Ramsell', '651325', 'G.', '(Camberwell,', 'S.E.);', 'Rowe', '531668', 'H.', 'J.', 'P.', '(Clapham,', 'S.W.);', 'Russell', '532668', 'A.', 'W.', '(Farnham);', 'Skipper', '372371', 'J.', 'G.', '(Yarmouth);', 'Slade', '653267', 'E.', 'T.', '(Bristol);', 'Smith', '372066', 'E.', 'D.', '(St.', 'Heliers);', 'Stepto', '532627', 'C.', 'F.', '(Clapham,', 'S.W.);', 'Turnbull', '372908', 'F.', 'W.', '(Gates-', 'head);', 'Vallis', '653320', 'W.', 'G.', '(Tooting,', 'S.W.);', 'Wade', '653321', 'A.', 'G.', '(Wandsworth,', 'S.W.);', 'Williams', '372716', 'H.', 'F.', '(Finchley,', 'N.)', ';', 'Wilson', '653340', 'G.', 'W.', '(Hackney,', 'E.);', 'Winston', '371287', 'J.', 'F.', '(Birmingham);', 'Yule', '372341', 'J.', '(St.', 'Boswells).', 'DIED', 'OF', 'WOUNDS.', 'ROYAL', 'FIELD', 'ARTILLERY.—Brunsden', '926515', 'Gnr.', 'C.', '(Walthamstow,', 'E.);', 'Carlyon', '37740', 'Act.-Bdr.', 'P.', 'D.', '(Clapton,', 'E.);', 'Hayhoe', '48161', 'Dvr.', 'T.', 'J.', '(Chelsea,', 'S.W.);', 'Hunt', '663262', 'Gnr.', 'B.', '(Uppingham);', 'Minshall', '131565', 'Gnr.', 'G.', '(Newport);', 'Motroni', '11389', 'Gnr.', 'J.', '(Ipswich);', 'Todman', '48037', 'Gnr.', 'J.', 'W.', '(Fulham,', 'S.W.).', 'ROYAL', 'GARRISON', 'ARTILLERY.—Featherstone', '124007', 'Gnr.', 'A.', '(Cheetham);', 'Ginn', '149553', 'Whir.', 'J.', 'E.', '(Spalding);', 'Powell', '31377', 'Sjt.', 'G.', '(Liphook)', ';', 'Pragnell', '283318', 'Gnr.', 'A.', 'J.', 'H.', '(Salisbury);', 'Tingle', '311038', 'Gnr.', 'S.', 'C.', '(Stockton).', 'ROYAL', 'ENGINEERS—Parkin', '104258', 'Dvr.', 'E.', 'W.', '(Chilton).', 'ROYAL', 'SCOTS.—Murray', '38057', 'J.', '(Glasgow).', 'QUEEN’S', '(ROYAL', 'WEST', 'SURREY', 'REGIMENT).—Seabury', '204901', 'C.', 'E.', '(Shrewsbury).', 'ROYAL', 'WARWICKSHIRE', 'REGIMENT.', '—', 'Collett', '9821', 'T.', '(Smethwick);', 'Edwards', '19060', 'A.', '(Coventry);', 'Younig', '17408', 'L.', 'G.', '(Marton).', 'ROYAL', 'FUSILIERS.—Bradford', '48170', 'W.', '(Great', 'Wratting).', 'KING’S', '(LIVERPOOL', 'REGIMENT)—Lowther', '307942', 'J.', '(Liver-', 'pool)', ';', 'Sinnott', '31399', 'W.', '(Liverpool).', 'LINCOLNSHIRE', 'REGIMENT.—Brown', '240014', 'Co.-Sjt.-Maj.', 'H.', '(Alford);', 'Dickinson', '240292', 'H.', '(Barton-on-Humber).', 'WEST', 'YORKSHIRE', 'REGIMENT.', '—', 'Busfield', '1412', 'L.-Cpl.', 'G.', '(Bradford);', 'Horry', '307615', 'J.', 'W.', '(Stickney);', 'Illingworth', '41449', 'A.', '(Idle);', 'Lucas', '266653', 'H.', '(Leeds);', 'May', '260060', 'L.', '(Bradford);', 'Taylor', '16073', 'T.', 'W.', '(Birghton);', 'Winn', '47984', 'j.', 'L.', '(Nottingham).', 'EAST', 'YORKSHIRE', 'REGIMENT.—Bazeley', '27926', 'E.', 'J.', '(North-', 'ampton).', 'YORKSHIRE', 'REGIMENT.—Robertson', '42576', 'E.', 'A.', '(Heaton).', 'LANCASHIRE', 'FUSILIERS.—Moorhouse', '307874', 'W.', '(Liverpool).', 'SOUTH', 'WALES', 'BORDERERS.—Campden', '39539', 'T.', '(Shotton);', 'Farthing', '40876', 'A.', 'G.', '(Darlington);', 'Wall', '25679', 'W.', '(Newport).', 'KING’S', 'OWN', 'SCOTTISH', 'BORDERERS.—McLaughlin', '18791', 'J.', '(Duntocher);', 'Welsh', '26471', 'M.', '(Partick).', '•', 'CAMERON', 'IANS', '(SCOTTISH', 'RIFLES).—Getty', '27539', 'H.', '(Glasgow);', 'Thorburn', '235131.', 'T.', '(Galashiels).', 'GLOUCESTERSHIRE', 'REGIMENT.—Buffin', '240776', 'G.', 'W.', '(Pontyclun);', 'Medway', '31336', 'H.', 'T.', '(Bristol).', 'EAST', 'LANCASHIRE', 'REGIMENT.—Bolton', '21176', 'J.', '(Darwen)', 'BORDER', 'REGIMENT.—Charnock', '241975', 'J.', 'W.', '(Manchester);', 'Oliver', '242273', 'T.', '(Rochdale);', 'Osborne', '241207', 'L.-Cpl.', 'F.', 'M.', '(Silloth).', 'ROYAL', 'SUSSEX', 'REGIMENT.—Venn', '1780', 'W.', 'E.', '(Billing-', 'hurst).', 'WELSH', 'REGIMENT.—Cook', '50017', 'G.', '(Madley);', 'James', '267081', 'S.', '(Cwmgwrach);', 'Williams', '30494', 'R.', '(Treharris).', 'THE', 'BLACK', 'WATCH.—Petrie', '2543', 'D.', '(Dundee).', 'ESSEX', 'REGIMENT.—Bullard', '202811', 'H.', '(St.', 'Osyth);', 'Plastow', '202778', 'G.', '(Widford);', 'SHERWOOD', 'FORESTERS.—Archer', '265330', 'L.-Sjt.', 'F.', '(Notting-', 'ham);', 'Bunting', '240273', 'C.', '(Millers', 'Dale);', 'Pearson', '80046', 'J.', '(Leicester).', 'LOYAL', 'NORTH', 'LANCASHIRE', 'REGIMENT.—Hudson', '200202', 'J.', '(Kirkham).', 'NORTHAMPTONSHIRE', 'REGIMENT.—Swallow', '15560', 'W.', 'E.', '(Northampton).', 'ROYAL', 'BERKSHIRE', 'REGIMENT.—Thompson', '12146', 'R.', 'C.', '(East', 'Greenwich).', 'KING’S', 'OWN', '(YORKSHIRE', 'LIGHT', 'INFANTRY).—Colbridge', '35231', 'L.-Cpl.', 'W.', '(Walkley);', 'Donaldson', '22971', 'L.-Cpl.', 'W.', '(Felling-', 'on-Tyne);', 'Gooder', '38619', 'S.', '(Batley);', 'Tomlinson', '33234', 'G.', '(Don-', 'caster).', 'DURHAM', 'LIGHT', 'INFANTRY.—Dougal', '52994', 'J.', '(North', 'Shields).', 'HIGHLAND', 'LIGHT', 'INFANTRY.—Depons', '31342', 'L.', '(Alyth);', 'Forbes', '42375', 'J.', '(Portadown);', 'Gilmour', '4913', 'S.', '(Kilwinning);', 'McGuire', '42347', 'T.', '(Paisley);', 'Nelson', '34843', 'W.', '(Glasgow).', 'SEAFORTH', 'HIGHLANDERS.—Glidden', '21785', 'W.', 'A.', '(Bideford).', 'ROYAL', 'IRISH', 'FUSILIERS.—Carroll', '23230', 'G.', 'F.', '(Armagh).', 'ARGYLL', 'AND', 'SUTHERLAND', 'HIGHLANDERS.—Muir', '251505', 'L.-Cpl.', 'R.', 'S.', '(Paisley).', 'RIFLE', 'BRIGADE.—Simmonds', '9976', 'C.', 'T.', '(Winson', 'Green).', 'MACHINE', 'GUN', 'CORPS.—Greaves', '67198', 'G.', 'E.', '(Aughton);', 'Maguire', '16489', 'Cpl.', 'J.', '(Drogheda);', 'Moore', '67367', 'W.', '(Brierfield);', 'Parratt', '35911', 'L.', 'W.', '(Guilford).', 'LONDON', 'REGIMENT.—Comber', '654411', 'E.', 'C.', '(Tooting,', 'S.W.);', 'Dicks', '703598', 'Drmr.', 'F.', 'R.', 'J.', '(Islington,', 'N.);', 'Fenton', '512087', 'Cpl.', 'F.', 'M.', '(Thornton', 'Heath);', 'Goldsworth', '653519', 'A.', '(Lavender', 'Hill,', 'S.W.);', 'Leyman', '493241', 'F.', 'W.', '(Exeter);', 'Porter', '702131', 'A.', 'L.', '(Notting-', 'ham);', 'Wilson', '532157', 'H.', 'L.', '(Richmond).', 'ARMY', 'SERVICE', 'CORPE^—Kenctall', 'DM2/168476', 'J.', '(Warms-', 'wojrth);', 'Stock', 'CMT/32', 'Sjt.', 'J.', '(Battel,', 'ea,', 'S.W.).']\n",
      "['DIED', 'OF', 'WpUNDS.', 'ESSEX', 'REGIf', 'ENT.—Blake', 'i868fc&gt;', 'W.', 'J.', '(Victoria', 'Docks,', 'E.).', 'WILTSHIRE', 'REGIMENT.—Phil/ps', '22960', 'A.', 'H.', '(Swindon).', 'DURHAM', 'LIGHT', 'INFANTRlT.—Clark', '39859', 'Sjt.', 'W.', 'J.', '(Reading).', 'I', 'ROYAL', 'IRISH', 'RIFLES.—Millai)', '7102', 'J.', '(Belfast);', 'Moore', '2144', 'Cpl.', 'J.', '.', '(Norwich).', 'MACHINE', 'GUN', 'CORPS.—L,aw', '26804', 'L.-Cpl.', 'W.', 'H.', '(Tod-', 'morden.).', 'PART', 'HI.', 'W.O.’s,', 'N.C.O.’s,', 'AND', 'MEN', '(Contd.).']\n",
      "['DIED', 'OF', 'WOUNDS.', 'LOYAL', 'NORTH', 'LANCASHIRE', 'REGIMENT.—Barrett', '33804', 'J.', 'F.', '(Swindon);', 'Davies', '15143', 'Sjt.', 'J.', '(Hulme).', 'SHROPSHIRE', 'LIGHT', 'INFANTRY.—Rowley', '24742', 'W.', 'H.', '(Shifnal).', 'DIED.', 'YEOMANRY.—Leslie', '271010', 'J.', '(Newcastle).', 'ROYAL', 'GARRISON', 'ARTILLERY.—Hill', '64374', 'Sjt.', 'P.', '(Hud-', 'dersfield).', 'MIDDLESEX', 'R', 'EGIMENT,—Shaw', '33379', 'W.', 'M.', '(Malden', 'Road,', 'N.W.).', 'NORTH', 'STAFFORDSHIRE', 'REGIMENT.—McLaren', '241840', 'W.', '(Burton).', 'DURHAM', 'LIGHT', 'INFANTRY.—Grayson', '43060', 'J.', '(Derby).', 'ROYAL', 'IRISH', 'FUSILIERS.—Kipps', '15641', 'C.', '(Bury).', 'CONNAUGHT', 'RANGERS.—Fanning', '7957', 'J.', '(Longsight).', 'LABOUR', 'CORPS.—Brennan', '7829', 'Cpl.', 'W.', 'L.', '(Glasgow);', 'Harper', '47947', 'W.', 'P.', '(Stockport).']\n"
     ]
    }
   ],
   "source": [
    "\n",
    "\n",
    "def relevant_text(l_corrent_file, relevant_range):\n",
    "    \"\"\"\n",
    "    l_corrent_file: type: the list of the current file.\n",
    "    relevant_range: type: list of tuples contain the start and the end point of the relevant parts of the text.\n",
    "    return: list of lists with the relevant part of the text.\n",
    "    \"\"\"\n",
    "    L = []\n",
    "    for t in relevant_range:\n",
    "        L.append(l_corrent_file[t[0]:t[1]])\n",
    "    return L\n",
    "\n",
    "x = relevant_text(l_corrent_file, get_index(l_corrent_file))\n",
    "for i in x:\n",
    "    print(i)"
   ]
  },
  {
   "cell_type": "code",
   "execution_count": 65,
   "metadata": {},
   "outputs": [
    {
     "name": "stdout",
     "output_type": "stream",
     "text": [
      "['DIED', '', 'OF', '']\n",
      "['WOUNDS.', '', 'ROYAL', 'SCOTS', '']\n",
      "['FUSILIERS.—Ritchie', '241288', 'J.', '(Ayr).']\n",
      "['SEAFORTH', '', '']\n",
      "['HIGHLANDERS.—Garrick', '12150', 'A.', '(Newcastle-on-']\n",
      "['Tyne).', '', 'PART', '']\n",
      "['VI.', '', '']\n",
      "['W.O.’s,', '', '']\n",
      "['N.C.O.’s,', '', 'AND', 'MEN', '(Contd.).']\n",
      "['DIED.', '', '']\n",
      "['YEOMANRY.—Farr', '106008', 'P.', '(Leicester).']\n",
      "['ROYAL', '', 'FIELD', '']\n",
      "['ARTILLERY.—Batten', '150226', '']\n",
      "['Dvr.', '', 'T.', 'M.', '(Charl-']\n",
      "['ton', '', '']\n",
      "['Horethorne);', '', 'Priestwood', '']\n",
      "['’', '', '']\n",
      "['379C2', '', '']\n",
      "['Sjt.', '', 'H.', '(St.']\n",
      "['Heliers,', '', '']\n",
      "['Jersey);', '', 'Ward', '']\n",
      "['185762', '', '']\n",
      "['Gnr.', '', 'H.', '(Sharrow,']\n",
      "['Sheffield).', '', 'ROYAL', '']\n",
      "['ENGINEERS.—Girling', '200342', '']\n",
      "['Spr.', '', 'J.', '(Belfast);']\n",
      "['Hollas', '131102', '']\n",
      "['Pnr.', '', 'E.', '(Huddersfield);']\n",
      "['Lockett', '197052', '']\n",
      "['Spr.', '', 'H.', '(Wolverhamp-']\n",
      "['ton);', '', 'Poree', '']\n",
      "['202264', '', 'P.', '(Plaistow,']\n",
      "['E.);', '', 'Rogers', '']\n",
      "['195707', '', '']\n",
      "['Spr.', '', 'J.', '(Hock-']\n",
      "['ley)', '', '']\n",
      "[';', '', 'Rowe', '']\n",
      "['150705', '', '']\n",
      "['Spr.', '', 'F.', 'W.', '(Crawlas']\n",
      "['Ludgoan);', '', 'Smith', '']\n",
      "['200976', '', '']\n",
      "['Spr.', '', 'W.', '(Manor']\n",
      "['Park,', '', '']\n",
      "['E.)', '', '']\n",
      "[';', '', 'White', '']\n",
      "['204853', '', '']\n",
      "['Act.', '', '']\n",
      "['Cpl.', '', 'J.', '(Belfast).']\n",
      "['THE', '', 'BUFFS', '(EAST']\n",
      "['KENT', '', '']\n",
      "['REGIMENT).—Turner', '241532', 'D.', '(Hounslow).']\n",
      "['NORTHUMBERLAND', '', '']\n",
      "['FUSILIERS.—Jackson', '292952', 'H.', '']\n",
      "[\"'Shef-\", '', '']\n",
      "['field)', '', '']\n",
      "[';', '', 'Whittaker', '']\n",
      "['52557', '', 'H.', '(Leeds).']\n",
      "['NORFOLK', '', '']\n",
      "['REGIMENT.—Walden', '240754', 'S.', '(King’s']\n",
      "['Lynn).', '', 'SOMERSET', 'LIGHT', '']\n",
      "['INFANTRY.—Hawkins', '30098', 'H.', 'R.', 'J.', '(Taunton).']\n",
      "['BEDFORDSHIRE', '', '']\n",
      "['REGIMENT.—Jobson', '24833', 'F.', '(Haverhill).']\n",
      "['LEICESTERSHIRE', '', '']\n",
      "['REGIMENT.—Goode', '23705', 'F.', '(Market']\n",
      "['Har-', '', '']\n",
      "['borough);', '', 'Tidswell', '']\n",
      "['19463', '', 'R.', '(Mansfield).']\n",
      "['CHESHIRE', '', '']\n",
      "['REGIMENT.—Williams', '11540', 'J.', '(Salford).']\n",
      "['CAMERONIANS', '', '(SCOTTISH']\n",
      "['RIFLES).', '', '']\n",
      "['Hamilton', '15294', 'G.', '(Glasgow).']\n",
      "['GLOUCESTERSHIRE', '', '']\n",
      "['REGIMENT.—Moore', '26463', 'A.', 'G.', '(Chel-']\n",
      "['tenham).', '', 'HAMPSHIRE', '']\n",
      "['REGIMENT.', '', '']\n",
      "['Barlow', '201417', 'W.', '(Winchester);']\n",
      "['Smith', '203512', 'A.', '(Newbury);']\n",
      "['Whatley', '202016', 'H.', '(Warminster);']\n",
      "['Wood-', '', 'ward', '']\n",
      "['200481', '', '']\n",
      "['Or.-Sjt.', '', 'A.', '(Alresford).']\n",
      "['WELSH', '', '']\n",
      "['REGIMENT.—Waterman', '37583', 'G.', '(East']\n",
      "['Dulwich,', '', '']\n",
      "['S.E.).', '', 'ROYAL', 'WEST', 'KENT', '']\n",
      "['REGIMENT.—Stanley', '13060', 'C.', '(Gilling-']\n",
      "['ham).', '', 'WILTSHIRE', '']\n",
      "['REGIMENT.', '', '']\n",
      "['Matthews', '6786', 'W.', 'F.', '(Timbers-']\n",
      "['combe).', '', 'DURHAM', 'LIGHT', '']\n",
      "['INFANTRY.—Young', '201929', 'J.', '(Sittingbourne).']\n",
      "['SEAFORTH', '', '']\n",
      "['HIGHLANDERS.—McLeod', '7468', 'M.', '(Stornoway);']\n",
      "['Ross', '7666', 'K.', '(Dingwall).']\n",
      "['CONNAUGHT', '', '']\n",
      "['RANGERS.—Gibbons', '7497', 'J.', '(Glasgow).']\n",
      "['ROYAL', '', 'DUBLIN', '']\n",
      "['FUSILIERS.—Quinn', '26818', '']\n",
      "['L.-Cpl.', '', 'D.', '(Mag-']\n",
      "['heranappin).', '', 'RIFLE', '']\n",
      "['BRIGADE.—Grimmett', '2122', 'A.', 'E.', '(Maidenhead);']\n",
      "['Love-', '', 'day', '']\n",
      "['207826', '', '']\n",
      "['L.-Cpl.', '', 'F.', 'J.', '(Brentford).']\n",
      "['ARMY', '', 'SERVICE', '']\n",
      "['CORPS.—Barker', '', '']\n",
      "['T/4/092186', '', '']\n",
      "['Dvr.', '', 'A.', '(Stoke']\n",
      "['Bardolph);', '', 'Cook', '']\n",
      "['S4/128289', '', '']\n",
      "['Sjt.', '', 'C.', 'W.', '(Weybridge);']\n",
      "['Crouch', '', '']\n",
      "['S4/146498', '', 'C.', 'H.', '(Tunbridge']\n",
      "['Wells);', '', 'Humphreys', '']\n",
      "['T/2/029424', '', '']\n",
      "['Dvr.', '', 'J.', 'W.', '(Canton);']\n",
      "['Jones', '', '']\n",
      "['DM2/195038', '', 'W.', '(Mold);']\n",
      "['LapKam', '', '']\n",
      "['T/4/13658', '', '']\n",
      "['Dvr.', '', 'B.', '(Kilmington);']\n",
      "['Latter', '', '']\n",
      "['T/1/225', '', '']\n",
      "['Dvr.', '', 'G.', '(Kilburn,']\n",
      "['N.W.);', '', 'Mellon', '']\n",
      "['T/254944', '', 'E.', '(Chelsea,']\n",
      "['S.W.);', '', 'Murphy', '']\n",
      "['M2/114149', '', 'R.', 'G.', '(Hove);']\n",
      "['Stacey', '', '']\n",
      "['Ti/2209', '', 'J.', '(Guildford).']\n",
      "['ROYAL', '', 'ARMY', 'MEDICAL', '']\n",
      "['CORPS.—Darke', '37330', '']\n",
      "['Cpl.', '', 'B.', '(Sun-']\n",
      "['derland);', '', 'Pearson', '']\n",
      "['64247', '', '']\n",
      "['Cpl.', '', 'E.', 'L.', '(Leith);']\n",
      "['Weaver', '3237', 'G.', '(Burs-']\n",
      "['lem).', '', '']\n"
     ]
    }
   ],
   "source": [
    "def extract_soldier_details(soldier_list):\n",
    "    soldiers = []\n",
    "    i = 0\n",
    "    while i < len(soldier_list):\n",
    "        if soldier_list[i].endswith(\"—\"):\n",
    "            i += 1\n",
    "            continue\n",
    "        \n",
    "        details = []\n",
    "        \n",
    "        # Extract name and private number if present\n",
    "        if i + 1 < len(soldier_list) and soldier_list[i + 1].isdigit():\n",
    "            details.append(soldier_list[i])  # Name\n",
    "            details.append(soldier_list[i + 1])  # Private number\n",
    "            i += 2\n",
    "        else:\n",
    "            details.append(soldier_list[i])  # Name\n",
    "            details.append('')  # Empty private number\n",
    "            i += 1\n",
    "        \n",
    "        # Extract initials\n",
    "        while i < len(soldier_list) and (soldier_list[i].isalpha() or soldier_list[i] in {'R.', 'T.', 'M.', 'F.', 'A.', 'G.', 'H.', 'W.', 'K.', 'D.', 'E.', 'L.', 'C.', 'P.', 'J.', 'B.', 'N.', 'W.', 'F.', 'S.'}):\n",
    "            details.append(soldier_list[i])\n",
    "            i += 1\n",
    "        \n",
    "        # Extract city of origin\n",
    "        if i < len(soldier_list) and soldier_list[i].startswith(\"(\"):\n",
    "            details.append(soldier_list[i])\n",
    "            i += 1\n",
    "        elif i + 1 < len(soldier_list) and soldier_list[i].startswith(\"('\") and soldier_list[i + 1].endswith(\")\"):\n",
    "            details.append(soldier_list[i] + soldier_list[i + 1])\n",
    "            i += 2\n",
    "        else:\n",
    "            details.append('')  # Empty city of origin\n",
    "        \n",
    "        soldiers.append(details)\n",
    "    \n",
    "    return soldiers\n",
    "\n",
    "# Provided list\n",
    "soldier_list = ['DIED', 'OF', 'WOUNDS.', 'ROYAL', 'SCOTS', 'FUSILIERS.—Ritchie', '241288', 'J.', '(Ayr).', 'SEAFORTH', 'HIGHLANDERS.—Garrick', '12150', 'A.', '(Newcastle-on-', 'Tyne).', 'PART', 'VI.', 'W.O.’s,', 'N.C.O.’s,', 'AND', 'MEN', '(Contd.).', 'DIED.', 'YEOMANRY.—Farr', '106008', 'P.', '(Leicester).', 'ROYAL', 'FIELD', 'ARTILLERY.—Batten', '150226', 'Dvr.', 'T.', 'M.', '(Charl-', 'ton', 'Horethorne);', 'Priestwood', '’', '379C2', 'Sjt.', 'H.', '(St.', 'Heliers,', 'Jersey);', 'Ward', '185762', 'Gnr.', 'H.', '(Sharrow,', 'Sheffield).', 'ROYAL', 'ENGINEERS.—Girling', '200342', 'Spr.', 'J.', '(Belfast);', 'Hollas', '131102', 'Pnr.', 'E.', '(Huddersfield);', 'Lockett', '197052', 'Spr.', 'H.', '(Wolverhamp-', 'ton);', 'Poree', '202264', 'P.', '(Plaistow,', 'E.);', 'Rogers', '195707', 'Spr.', 'J.', '(Hock-', 'ley)', ';', 'Rowe', '150705', 'Spr.', 'F.', 'W.', '(Crawlas', 'Ludgoan);', 'Smith', '200976', 'Spr.', 'W.', '(Manor', 'Park,', 'E.)', ';', 'White', '204853', 'Act.', 'Cpl.', 'J.', '(Belfast).', 'THE', 'BUFFS', '(EAST', 'KENT', 'REGIMENT).—Turner', '241532', 'D.', '(Hounslow).', 'NORTHUMBERLAND', 'FUSILIERS.—Jackson', '292952', 'H.', \"'Shef-\", 'field)', ';', 'Whittaker', '52557', 'H.', '(Leeds).', 'NORFOLK', 'REGIMENT.—Walden', '240754', 'S.', '(King’s', 'Lynn).', 'SOMERSET', 'LIGHT', 'INFANTRY.—Hawkins', '30098', 'H.', 'R.', 'J.', '(Taunton).', 'BEDFORDSHIRE', 'REGIMENT.—Jobson', '24833', 'F.', '(Haverhill).', 'LEICESTERSHIRE', 'REGIMENT.—Goode', '23705', 'F.', '(Market', 'Har-', 'borough);', 'Tidswell', '19463', 'R.', '(Mansfield).', 'CHESHIRE', 'REGIMENT.—Williams', '11540', 'J.', '(Salford).', 'CAMERONIANS', '(SCOTTISH', 'RIFLES).', '—', 'Hamilton', '15294', 'G.', '(Glasgow).', 'GLOUCESTERSHIRE', 'REGIMENT.—Moore', '26463', 'A.', 'G.', '(Chel-', 'tenham).', 'HAMPSHIRE', 'REGIMENT.', '—', 'Barlow', '201417', 'W.', '(Winchester);', 'Smith', '203512', 'A.', '(Newbury);', 'Whatley', '202016', 'H.', '(Warminster);', 'Wood-', 'ward', '200481', 'Or.-Sjt.', 'A.', '(Alresford).', 'WELSH', 'REGIMENT.—Waterman', '37583', 'G.', '(East', 'Dulwich,', 'S.E.).', 'ROYAL', 'WEST', 'KENT', 'REGIMENT.—Stanley', '13060', 'C.', '(Gilling-', 'ham).', 'WILTSHIRE', 'REGIMENT.', '—', 'Matthews', '6786', 'W.', 'F.', '(Timbers-', 'combe).', 'DURHAM', 'LIGHT', 'INFANTRY.—Young', '201929', 'J.', '(Sittingbourne).', 'SEAFORTH', 'HIGHLANDERS.—McLeod', '7468', 'M.', '(Stornoway);', 'Ross', '7666', 'K.', '(Dingwall).', 'CONNAUGHT', 'RANGERS.—Gibbons', '7497', 'J.', '(Glasgow).', 'ROYAL', 'DUBLIN', 'FUSILIERS.—Quinn', '26818', 'L.-Cpl.', 'D.', '(Mag-', 'heranappin).', 'RIFLE', 'BRIGADE.—Grimmett', '2122', 'A.', 'E.', '(Maidenhead);', 'Love-', 'day', '207826', 'L.-Cpl.', 'F.', 'J.', '(Brentford).', 'ARMY', 'SERVICE', 'CORPS.—Barker', 'T/4/092186', 'Dvr.', 'A.', '(Stoke', 'Bardolph);', 'Cook', 'S4/128289', 'Sjt.', 'C.', 'W.', '(Weybridge);', 'Crouch', 'S4/146498', 'C.', 'H.', '(Tunbridge', 'Wells);', 'Humphreys', 'T/2/029424', 'Dvr.', 'J.', 'W.', '(Canton);', 'Jones', 'DM2/195038', 'W.', '(Mold);', 'LapKam', 'T/4/13658', 'Dvr.', 'B.', '(Kilmington);', 'Latter', 'T/1/225', 'Dvr.', 'G.', '(Kilburn,', 'N.W.);', 'Mellon', 'T/254944', 'E.', '(Chelsea,', 'S.W.);', 'Murphy', 'M2/114149', 'R.', 'G.', '(Hove);', 'Stacey', 'Ti/2209', 'J.', '(Guildford).', 'ROYAL', 'ARMY', 'MEDICAL', 'CORPS.—Darke', '37330', 'Cpl.', 'B.', '(Sun-', 'derland);', 'Pearson', '64247', 'Cpl.', 'E.', 'L.', '(Leith);', 'Weaver', '3237', 'G.', '(Burs-', 'lem).']\n",
    "\n",
    "# Get the soldier details\n",
    "soldier_details = extract_soldier_details(soldier_list)\n",
    "for soldier in soldier_details:\n",
    "    print(soldier)\n"
   ]
  }
 ],
 "metadata": {
  "kernelspec": {
   "display_name": "Python 3",
   "language": "python",
   "name": "python3"
  },
  "language_info": {
   "codemirror_mode": {
    "name": "ipython",
    "version": 3
   },
   "file_extension": ".py",
   "mimetype": "text/x-python",
   "name": "python",
   "nbconvert_exporter": "python",
   "pygments_lexer": "ipython3",
   "version": "3.10.2"
  }
 },
 "nbformat": 4,
 "nbformat_minor": 2
}
